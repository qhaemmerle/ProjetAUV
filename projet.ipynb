{
 "cells": [
  {
   "cell_type": "markdown",
   "metadata": {},
   "source": [
    "# 1. Initialisation"
   ]
  },
  {
   "cell_type": "markdown",
   "metadata": {},
   "source": [
    "Importations"
   ]
  },
  {
   "cell_type": "code",
   "execution_count": null,
   "metadata": {},
   "outputs": [
    {
     "name": "stderr",
     "output_type": "stream",
     "text": [
      "\n",
      "A module that was compiled using NumPy 1.x cannot be run in\n",
      "NumPy 2.0.2 as it may crash. To support both 1.x and 2.x\n",
      "versions of NumPy, modules must be compiled with NumPy 2.0.\n",
      "Some module may need to rebuild instead e.g. with 'pybind11>=2.12'.\n",
      "\n",
      "If you are a user of the module, the easiest solution will be to\n",
      "downgrade to 'numpy<2' or try to upgrade the affected module.\n",
      "We expect that some modules will need time to support NumPy 2.\n",
      "\n",
      "Traceback (most recent call last):  File \"C:\\Users\\samce\\AppData\\Local\\Programs\\Python\\Python39\\lib\\runpy.py\", line 197, in _run_module_as_main\n",
      "    return _run_code(code, main_globals, None,\n",
      "  File \"C:\\Users\\samce\\AppData\\Local\\Programs\\Python\\Python39\\lib\\runpy.py\", line 87, in _run_code\n",
      "    exec(code, run_globals)\n",
      "  File \"c:\\Users\\samce\\OneDrive\\Documents\\Projets\\ProjetAUV\\env397\\lib\\site-packages\\ipykernel_launcher.py\", line 18, in <module>\n",
      "    app.launch_new_instance()\n",
      "  File \"c:\\Users\\samce\\OneDrive\\Documents\\Projets\\ProjetAUV\\env397\\lib\\site-packages\\traitlets\\config\\application.py\", line 985, in launch_instance\n",
      "    app.start()\n",
      "  File \"c:\\Users\\samce\\OneDrive\\Documents\\Projets\\ProjetAUV\\env397\\lib\\site-packages\\ipykernel\\kernelapp.py\", line 739, in start\n",
      "    self.io_loop.start()\n",
      "  File \"c:\\Users\\samce\\OneDrive\\Documents\\Projets\\ProjetAUV\\env397\\lib\\site-packages\\tornado\\platform\\asyncio.py\", line 205, in start\n",
      "    self.asyncio_loop.run_forever()\n",
      "  File \"C:\\Users\\samce\\AppData\\Local\\Programs\\Python\\Python39\\lib\\asyncio\\base_events.py\", line 596, in run_forever\n",
      "    self._run_once()\n",
      "  File \"C:\\Users\\samce\\AppData\\Local\\Programs\\Python\\Python39\\lib\\asyncio\\base_events.py\", line 1890, in _run_once\n",
      "    handle._run()\n",
      "  File \"C:\\Users\\samce\\AppData\\Local\\Programs\\Python\\Python39\\lib\\asyncio\\events.py\", line 80, in _run\n",
      "    self._context.run(self._callback, *self._args)\n",
      "  File \"c:\\Users\\samce\\OneDrive\\Documents\\Projets\\ProjetAUV\\env397\\lib\\site-packages\\ipykernel\\kernelbase.py\", line 545, in dispatch_queue\n",
      "    await self.process_one()\n",
      "  File \"c:\\Users\\samce\\OneDrive\\Documents\\Projets\\ProjetAUV\\env397\\lib\\site-packages\\ipykernel\\kernelbase.py\", line 534, in process_one\n",
      "    await dispatch(*args)\n",
      "  File \"c:\\Users\\samce\\OneDrive\\Documents\\Projets\\ProjetAUV\\env397\\lib\\site-packages\\ipykernel\\kernelbase.py\", line 437, in dispatch_shell\n",
      "    await result\n",
      "  File \"c:\\Users\\samce\\OneDrive\\Documents\\Projets\\ProjetAUV\\env397\\lib\\site-packages\\ipykernel\\ipkernel.py\", line 362, in execute_request\n",
      "    await super().execute_request(stream, ident, parent)\n",
      "  File \"c:\\Users\\samce\\OneDrive\\Documents\\Projets\\ProjetAUV\\env397\\lib\\site-packages\\ipykernel\\kernelbase.py\", line 778, in execute_request\n",
      "    reply_content = await reply_content\n",
      "  File \"c:\\Users\\samce\\OneDrive\\Documents\\Projets\\ProjetAUV\\env397\\lib\\site-packages\\ipykernel\\ipkernel.py\", line 449, in do_execute\n",
      "    res = shell.run_cell(\n",
      "  File \"c:\\Users\\samce\\OneDrive\\Documents\\Projets\\ProjetAUV\\env397\\lib\\site-packages\\ipykernel\\zmqshell.py\", line 549, in run_cell\n",
      "    return super().run_cell(*args, **kwargs)\n",
      "  File \"c:\\Users\\samce\\OneDrive\\Documents\\Projets\\ProjetAUV\\env397\\lib\\site-packages\\IPython\\core\\interactiveshell.py\", line 2940, in run_cell\n",
      "    result = self._run_cell(\n",
      "  File \"c:\\Users\\samce\\OneDrive\\Documents\\Projets\\ProjetAUV\\env397\\lib\\site-packages\\IPython\\core\\interactiveshell.py\", line 2995, in _run_cell\n",
      "    return runner(coro)\n",
      "  File \"c:\\Users\\samce\\OneDrive\\Documents\\Projets\\ProjetAUV\\env397\\lib\\site-packages\\IPython\\core\\async_helpers.py\", line 129, in _pseudo_sync_runner\n",
      "    coro.send(None)\n",
      "  File \"c:\\Users\\samce\\OneDrive\\Documents\\Projets\\ProjetAUV\\env397\\lib\\site-packages\\IPython\\core\\interactiveshell.py\", line 3194, in run_cell_async\n",
      "    has_raised = await self.run_ast_nodes(code_ast.body, cell_name,\n",
      "  File \"c:\\Users\\samce\\OneDrive\\Documents\\Projets\\ProjetAUV\\env397\\lib\\site-packages\\IPython\\core\\interactiveshell.py\", line 3373, in run_ast_nodes\n",
      "    if await self.run_code(code, result, async_=asy):\n",
      "  File \"c:\\Users\\samce\\OneDrive\\Documents\\Projets\\ProjetAUV\\env397\\lib\\site-packages\\IPython\\core\\interactiveshell.py\", line 3433, in run_code\n",
      "    exec(code_obj, self.user_global_ns, self.user_ns)\n",
      "  File \"C:\\Users\\samce\\AppData\\Local\\Temp\\ipykernel_12796\\1190372110.py\", line 2, in <module>\n",
      "    import matplotlib.pyplot as plt\n",
      "  File \"c:\\Users\\samce\\OneDrive\\Documents\\Projets\\ProjetAUV\\env397\\lib\\site-packages\\matplotlib\\__init__.py\", line 113, in <module>\n",
      "    from . import _api, _version, cbook, _docstring, rcsetup\n",
      "  File \"c:\\Users\\samce\\OneDrive\\Documents\\Projets\\ProjetAUV\\env397\\lib\\site-packages\\matplotlib\\rcsetup.py\", line 27, in <module>\n",
      "    from matplotlib.colors import Colormap, is_color_like\n",
      "  File \"c:\\Users\\samce\\OneDrive\\Documents\\Projets\\ProjetAUV\\env397\\lib\\site-packages\\matplotlib\\colors.py\", line 56, in <module>\n",
      "    from matplotlib import _api, _cm, cbook, scale\n",
      "  File \"c:\\Users\\samce\\OneDrive\\Documents\\Projets\\ProjetAUV\\env397\\lib\\site-packages\\matplotlib\\scale.py\", line 22, in <module>\n",
      "    from matplotlib.ticker import (\n",
      "  File \"c:\\Users\\samce\\OneDrive\\Documents\\Projets\\ProjetAUV\\env397\\lib\\site-packages\\matplotlib\\ticker.py\", line 138, in <module>\n",
      "    from matplotlib import transforms as mtransforms\n",
      "  File \"c:\\Users\\samce\\OneDrive\\Documents\\Projets\\ProjetAUV\\env397\\lib\\site-packages\\matplotlib\\transforms.py\", line 49, in <module>\n",
      "    from matplotlib._path import (\n"
     ]
    },
    {
     "ename": "AttributeError",
     "evalue": "_ARRAY_API not found",
     "output_type": "error",
     "traceback": [
      "\u001b[1;31m---------------------------------------------------------------------------\u001b[0m",
      "\u001b[1;31mAttributeError\u001b[0m                            Traceback (most recent call last)",
      "\u001b[1;31mAttributeError\u001b[0m: _ARRAY_API not found"
     ]
    },
    {
     "ename": "ImportError",
     "evalue": "numpy.core.multiarray failed to import",
     "output_type": "error",
     "traceback": [
      "\u001b[1;31m---------------------------------------------------------------------------\u001b[0m",
      "\u001b[1;31mImportError\u001b[0m                               Traceback (most recent call last)",
      "Cell \u001b[1;32mIn[1], line 2\u001b[0m\n\u001b[0;32m      1\u001b[0m \u001b[38;5;28;01mimport\u001b[39;00m \u001b[38;5;21;01mnumpy\u001b[39;00m \u001b[38;5;28;01mas\u001b[39;00m \u001b[38;5;21;01mnp\u001b[39;00m\n\u001b[1;32m----> 2\u001b[0m \u001b[38;5;28;01mimport\u001b[39;00m \u001b[38;5;21;01mmatplotlib\u001b[39;00m\u001b[38;5;21;01m.\u001b[39;00m\u001b[38;5;21;01mpyplot\u001b[39;00m \u001b[38;5;28;01mas\u001b[39;00m \u001b[38;5;21;01mplt\u001b[39;00m\n\u001b[0;32m      3\u001b[0m matplotlib\u001b[38;5;241m.\u001b[39muse(\u001b[38;5;124m\"\u001b[39m\u001b[38;5;124mTkAgg\u001b[39m\u001b[38;5;124m\"\u001b[39m)  \u001b[38;5;66;03m# Ou \"Qt5Agg\"\u001b[39;00m\n\u001b[0;32m      4\u001b[0m \u001b[38;5;28;01mimport\u001b[39;00m \u001b[38;5;21;01mmatplotlib\u001b[39;00m\u001b[38;5;21;01m.\u001b[39;00m\u001b[38;5;21;01manimation\u001b[39;00m \u001b[38;5;28;01mas\u001b[39;00m \u001b[38;5;21;01manimation\u001b[39;00m\n",
      "File \u001b[1;32mc:\\Users\\samce\\OneDrive\\Documents\\Projets\\ProjetAUV\\env397\\lib\\site-packages\\matplotlib\\__init__.py:113\u001b[0m\n\u001b[0;32m    109\u001b[0m \u001b[38;5;28;01mfrom\u001b[39;00m \u001b[38;5;21;01mpackaging\u001b[39;00m\u001b[38;5;21;01m.\u001b[39;00m\u001b[38;5;21;01mversion\u001b[39;00m \u001b[38;5;28;01mimport\u001b[39;00m parse \u001b[38;5;28;01mas\u001b[39;00m parse_version\n\u001b[0;32m    111\u001b[0m \u001b[38;5;66;03m# cbook must import matplotlib only within function\u001b[39;00m\n\u001b[0;32m    112\u001b[0m \u001b[38;5;66;03m# definitions, so it is safe to import from it here.\u001b[39;00m\n\u001b[1;32m--> 113\u001b[0m \u001b[38;5;28;01mfrom\u001b[39;00m \u001b[38;5;21;01m.\u001b[39;00m \u001b[38;5;28;01mimport\u001b[39;00m _api, _version, cbook, _docstring, rcsetup\n\u001b[0;32m    114\u001b[0m \u001b[38;5;28;01mfrom\u001b[39;00m \u001b[38;5;21;01mmatplotlib\u001b[39;00m\u001b[38;5;21;01m.\u001b[39;00m\u001b[38;5;21;01mcbook\u001b[39;00m \u001b[38;5;28;01mimport\u001b[39;00m sanitize_sequence\n\u001b[0;32m    115\u001b[0m \u001b[38;5;28;01mfrom\u001b[39;00m \u001b[38;5;21;01mmatplotlib\u001b[39;00m\u001b[38;5;21;01m.\u001b[39;00m\u001b[38;5;21;01m_api\u001b[39;00m \u001b[38;5;28;01mimport\u001b[39;00m MatplotlibDeprecationWarning\n",
      "File \u001b[1;32mc:\\Users\\samce\\OneDrive\\Documents\\Projets\\ProjetAUV\\env397\\lib\\site-packages\\matplotlib\\rcsetup.py:27\u001b[0m\n\u001b[0;32m     25\u001b[0m \u001b[38;5;28;01mfrom\u001b[39;00m \u001b[38;5;21;01mmatplotlib\u001b[39;00m \u001b[38;5;28;01mimport\u001b[39;00m _api, cbook\n\u001b[0;32m     26\u001b[0m \u001b[38;5;28;01mfrom\u001b[39;00m \u001b[38;5;21;01mmatplotlib\u001b[39;00m\u001b[38;5;21;01m.\u001b[39;00m\u001b[38;5;21;01mcbook\u001b[39;00m \u001b[38;5;28;01mimport\u001b[39;00m ls_mapper\n\u001b[1;32m---> 27\u001b[0m \u001b[38;5;28;01mfrom\u001b[39;00m \u001b[38;5;21;01mmatplotlib\u001b[39;00m\u001b[38;5;21;01m.\u001b[39;00m\u001b[38;5;21;01mcolors\u001b[39;00m \u001b[38;5;28;01mimport\u001b[39;00m Colormap, is_color_like\n\u001b[0;32m     28\u001b[0m \u001b[38;5;28;01mfrom\u001b[39;00m \u001b[38;5;21;01mmatplotlib\u001b[39;00m\u001b[38;5;21;01m.\u001b[39;00m\u001b[38;5;21;01m_fontconfig_pattern\u001b[39;00m \u001b[38;5;28;01mimport\u001b[39;00m parse_fontconfig_pattern\n\u001b[0;32m     29\u001b[0m \u001b[38;5;28;01mfrom\u001b[39;00m \u001b[38;5;21;01mmatplotlib\u001b[39;00m\u001b[38;5;21;01m.\u001b[39;00m\u001b[38;5;21;01m_enums\u001b[39;00m \u001b[38;5;28;01mimport\u001b[39;00m JoinStyle, CapStyle\n",
      "File \u001b[1;32mc:\\Users\\samce\\OneDrive\\Documents\\Projets\\ProjetAUV\\env397\\lib\\site-packages\\matplotlib\\colors.py:56\u001b[0m\n\u001b[0;32m     54\u001b[0m \u001b[38;5;28;01mimport\u001b[39;00m \u001b[38;5;21;01mmatplotlib\u001b[39;00m \u001b[38;5;28;01mas\u001b[39;00m \u001b[38;5;21;01mmpl\u001b[39;00m\n\u001b[0;32m     55\u001b[0m \u001b[38;5;28;01mimport\u001b[39;00m \u001b[38;5;21;01mnumpy\u001b[39;00m \u001b[38;5;28;01mas\u001b[39;00m \u001b[38;5;21;01mnp\u001b[39;00m\n\u001b[1;32m---> 56\u001b[0m \u001b[38;5;28;01mfrom\u001b[39;00m \u001b[38;5;21;01mmatplotlib\u001b[39;00m \u001b[38;5;28;01mimport\u001b[39;00m _api, _cm, cbook, scale\n\u001b[0;32m     57\u001b[0m \u001b[38;5;28;01mfrom\u001b[39;00m \u001b[38;5;21;01m.\u001b[39;00m\u001b[38;5;21;01m_color_data\u001b[39;00m \u001b[38;5;28;01mimport\u001b[39;00m BASE_COLORS, TABLEAU_COLORS, CSS4_COLORS, XKCD_COLORS\n\u001b[0;32m     60\u001b[0m \u001b[38;5;28;01mclass\u001b[39;00m \u001b[38;5;21;01m_ColorMapping\u001b[39;00m(\u001b[38;5;28mdict\u001b[39m):\n",
      "File \u001b[1;32mc:\\Users\\samce\\OneDrive\\Documents\\Projets\\ProjetAUV\\env397\\lib\\site-packages\\matplotlib\\scale.py:22\u001b[0m\n\u001b[0;32m     20\u001b[0m \u001b[38;5;28;01mimport\u001b[39;00m \u001b[38;5;21;01mmatplotlib\u001b[39;00m \u001b[38;5;28;01mas\u001b[39;00m \u001b[38;5;21;01mmpl\u001b[39;00m\n\u001b[0;32m     21\u001b[0m \u001b[38;5;28;01mfrom\u001b[39;00m \u001b[38;5;21;01mmatplotlib\u001b[39;00m \u001b[38;5;28;01mimport\u001b[39;00m _api, _docstring\n\u001b[1;32m---> 22\u001b[0m \u001b[38;5;28;01mfrom\u001b[39;00m \u001b[38;5;21;01mmatplotlib\u001b[39;00m\u001b[38;5;21;01m.\u001b[39;00m\u001b[38;5;21;01mticker\u001b[39;00m \u001b[38;5;28;01mimport\u001b[39;00m (\n\u001b[0;32m     23\u001b[0m     NullFormatter, ScalarFormatter, LogFormatterSciNotation, LogitFormatter,\n\u001b[0;32m     24\u001b[0m     NullLocator, LogLocator, AutoLocator, AutoMinorLocator,\n\u001b[0;32m     25\u001b[0m     SymmetricalLogLocator, AsinhLocator, LogitLocator)\n\u001b[0;32m     26\u001b[0m \u001b[38;5;28;01mfrom\u001b[39;00m \u001b[38;5;21;01mmatplotlib\u001b[39;00m\u001b[38;5;21;01m.\u001b[39;00m\u001b[38;5;21;01mtransforms\u001b[39;00m \u001b[38;5;28;01mimport\u001b[39;00m Transform, IdentityTransform\n\u001b[0;32m     29\u001b[0m \u001b[38;5;28;01mclass\u001b[39;00m \u001b[38;5;21;01mScaleBase\u001b[39;00m:\n",
      "File \u001b[1;32mc:\\Users\\samce\\OneDrive\\Documents\\Projets\\ProjetAUV\\env397\\lib\\site-packages\\matplotlib\\ticker.py:138\u001b[0m\n\u001b[0;32m    136\u001b[0m \u001b[38;5;28;01mimport\u001b[39;00m \u001b[38;5;21;01mmatplotlib\u001b[39;00m \u001b[38;5;28;01mas\u001b[39;00m \u001b[38;5;21;01mmpl\u001b[39;00m\n\u001b[0;32m    137\u001b[0m \u001b[38;5;28;01mfrom\u001b[39;00m \u001b[38;5;21;01mmatplotlib\u001b[39;00m \u001b[38;5;28;01mimport\u001b[39;00m _api, cbook\n\u001b[1;32m--> 138\u001b[0m \u001b[38;5;28;01mfrom\u001b[39;00m \u001b[38;5;21;01mmatplotlib\u001b[39;00m \u001b[38;5;28;01mimport\u001b[39;00m transforms \u001b[38;5;28;01mas\u001b[39;00m mtransforms\n\u001b[0;32m    140\u001b[0m _log \u001b[38;5;241m=\u001b[39m logging\u001b[38;5;241m.\u001b[39mgetLogger(\u001b[38;5;18m__name__\u001b[39m)\n\u001b[0;32m    142\u001b[0m __all__ \u001b[38;5;241m=\u001b[39m (\u001b[38;5;124m'\u001b[39m\u001b[38;5;124mTickHelper\u001b[39m\u001b[38;5;124m'\u001b[39m, \u001b[38;5;124m'\u001b[39m\u001b[38;5;124mFormatter\u001b[39m\u001b[38;5;124m'\u001b[39m, \u001b[38;5;124m'\u001b[39m\u001b[38;5;124mFixedFormatter\u001b[39m\u001b[38;5;124m'\u001b[39m,\n\u001b[0;32m    143\u001b[0m            \u001b[38;5;124m'\u001b[39m\u001b[38;5;124mNullFormatter\u001b[39m\u001b[38;5;124m'\u001b[39m, \u001b[38;5;124m'\u001b[39m\u001b[38;5;124mFuncFormatter\u001b[39m\u001b[38;5;124m'\u001b[39m, \u001b[38;5;124m'\u001b[39m\u001b[38;5;124mFormatStrFormatter\u001b[39m\u001b[38;5;124m'\u001b[39m,\n\u001b[0;32m    144\u001b[0m            \u001b[38;5;124m'\u001b[39m\u001b[38;5;124mStrMethodFormatter\u001b[39m\u001b[38;5;124m'\u001b[39m, \u001b[38;5;124m'\u001b[39m\u001b[38;5;124mScalarFormatter\u001b[39m\u001b[38;5;124m'\u001b[39m, \u001b[38;5;124m'\u001b[39m\u001b[38;5;124mLogFormatter\u001b[39m\u001b[38;5;124m'\u001b[39m,\n\u001b[1;32m   (...)\u001b[0m\n\u001b[0;32m    150\u001b[0m            \u001b[38;5;124m'\u001b[39m\u001b[38;5;124mMultipleLocator\u001b[39m\u001b[38;5;124m'\u001b[39m, \u001b[38;5;124m'\u001b[39m\u001b[38;5;124mMaxNLocator\u001b[39m\u001b[38;5;124m'\u001b[39m, \u001b[38;5;124m'\u001b[39m\u001b[38;5;124mAutoMinorLocator\u001b[39m\u001b[38;5;124m'\u001b[39m,\n\u001b[0;32m    151\u001b[0m            \u001b[38;5;124m'\u001b[39m\u001b[38;5;124mSymmetricalLogLocator\u001b[39m\u001b[38;5;124m'\u001b[39m, \u001b[38;5;124m'\u001b[39m\u001b[38;5;124mAsinhLocator\u001b[39m\u001b[38;5;124m'\u001b[39m, \u001b[38;5;124m'\u001b[39m\u001b[38;5;124mLogitLocator\u001b[39m\u001b[38;5;124m'\u001b[39m)\n",
      "File \u001b[1;32mc:\\Users\\samce\\OneDrive\\Documents\\Projets\\ProjetAUV\\env397\\lib\\site-packages\\matplotlib\\transforms.py:49\u001b[0m\n\u001b[0;32m     46\u001b[0m \u001b[38;5;28;01mfrom\u001b[39;00m \u001b[38;5;21;01mnumpy\u001b[39;00m\u001b[38;5;21;01m.\u001b[39;00m\u001b[38;5;21;01mlinalg\u001b[39;00m \u001b[38;5;28;01mimport\u001b[39;00m inv\n\u001b[0;32m     48\u001b[0m \u001b[38;5;28;01mfrom\u001b[39;00m \u001b[38;5;21;01mmatplotlib\u001b[39;00m \u001b[38;5;28;01mimport\u001b[39;00m _api\n\u001b[1;32m---> 49\u001b[0m \u001b[38;5;28;01mfrom\u001b[39;00m \u001b[38;5;21;01mmatplotlib\u001b[39;00m\u001b[38;5;21;01m.\u001b[39;00m\u001b[38;5;21;01m_path\u001b[39;00m \u001b[38;5;28;01mimport\u001b[39;00m (\n\u001b[0;32m     50\u001b[0m     affine_transform, count_bboxes_overlapping_bbox, update_path_extents)\n\u001b[0;32m     51\u001b[0m \u001b[38;5;28;01mfrom\u001b[39;00m \u001b[38;5;21;01m.\u001b[39;00m\u001b[38;5;21;01mpath\u001b[39;00m \u001b[38;5;28;01mimport\u001b[39;00m Path\n\u001b[0;32m     53\u001b[0m DEBUG \u001b[38;5;241m=\u001b[39m \u001b[38;5;28;01mFalse\u001b[39;00m\n",
      "\u001b[1;31mImportError\u001b[0m: numpy.core.multiarray failed to import"
     ]
    }
   ],
   "source": [
    "import numpy as np\n",
    "import matplotlib.pyplot as plt\n",
    "matplotlib.use(\"TkAgg\")  # Ou \"Qt5Agg\"\n",
    "import matplotlib.animation as animation\n",
    "import random\n",
    "from scipy.interpolate import lagrange"
   ]
  },
  {
   "cell_type": "markdown",
   "metadata": {},
   "source": [
    "Paramètres du modèle"
   ]
  },
  {
   "cell_type": "code",
   "execution_count": null,
   "metadata": {},
   "outputs": [],
   "source": [
    "window_size = 7\n",
    "distance = 5\n",
    "angle = 0.3\n",
    "dt = 1\n",
    "noise = 0.1\n",
    "resolution = 0.002\n",
    "duration = 1000\n",
    "beam_radius = 0\n",
    "a = 0.3  # Facteur d'expansion de la spirale\n",
    "b = 0.1  # Facteur de croissance du rayon\n",
    "\n",
    "#Samuel"
   ]
  },
  {
   "cell_type": "markdown",
   "metadata": {},
   "source": [
    "Initialisation des positions"
   ]
  },
  {
   "cell_type": "code",
   "execution_count": null,
   "metadata": {},
   "outputs": [],
   "source": [
    "target_position = np.array([np.random.uniform(window_size/4, 3*window_size/4), np.random.uniform(window_size/4, 3*window_size/4)])\n",
    "target_speed = np.array([np.random.uniform(-0.1, 0.1), np.random.uniform(-0.1, 0.1)])\n",
    "sensor_position = np.array([window_size/2, window_size/2])\n",
    "tracking_position = np.copy(sensor_position)\n",
    "\n",
    "target_history = [target_position.copy()]\n",
    "tracking_history = [tracking_position.copy()]\n",
    "\n",
    "is_target_found = False\n",
    "\n",
    "search_path = [(0, 0)] * duration"
   ]
  },
  {
   "cell_type": "markdown",
   "metadata": {},
   "source": [
    "Initialisation du plot"
   ]
  },
  {
   "cell_type": "code",
   "execution_count": null,
   "metadata": {},
   "outputs": [
    {
     "data": {
      "text/plain": [
       "Text(0.5, 1.0, 'Simulation Pointing, Acquisition, and Tracking (PAT)')"
      ]
     },
     "execution_count": 22,
     "metadata": {},
     "output_type": "execute_result"
    }
   ],
   "source": [
    "fig, ax = plt.subplots()\n",
    "ax.set_xlim(0, window_size)\n",
    "ax.set_ylim(0, window_size)\n",
    "target_line, = ax.plot([], [], 'r--', alpha=0.5, label=\"Trajectoire cible\")\n",
    "tracking_line, = ax.plot([], [], 'b--', alpha=0.5, label=\"Trajectoire suivi\")\n",
    "sensor_dot, = ax.plot([], [], 'go', markersize=8, label=\"Capteur\")\n",
    "target_dot, = ax.plot([], [], 'ro', markersize=8, label=\"Cible\")\n",
    "tracking_dot, = ax.plot([], [], 'bo', markersize=8, label=\"Tracking\")\n",
    "ax.legend()\n",
    "ax.set_title(\"Simulation Pointing, Acquisition, and Tracking (PAT)\")"
   ]
  },
  {
   "cell_type": "markdown",
   "metadata": {},
   "source": [
    "# 2. PAT"
   ]
  },
  {
   "cell_type": "markdown",
   "metadata": {},
   "source": [
    "A. Outils"
   ]
  },
  {
   "cell_type": "code",
   "execution_count": null,
   "metadata": {},
   "outputs": [],
   "source": [
    "def calculate_radius(distance, angle):\n",
    "    \"\"\"Calcule le rayon d'un faisceau à une certaine distance de la source\"\"\"\n",
    "    radius = distance * np.tan(angle)\n",
    "    return radius\n",
    "\n",
    "\n",
    "def detect_target(beam_radius):\n",
    "    \"\"\"Teste si la cible est dans le rayon du faisceau\"\"\"\n",
    "    distance = np.linalg.norm(target_position - tracking_position)\n",
    "    return distance <= beam_radius"
   ]
  },
  {
   "cell_type": "markdown",
   "metadata": {},
   "source": [
    "B. Calcul du parcours du faisceau"
   ]
  },
  {
   "cell_type": "code",
   "execution_count": null,
   "metadata": {},
   "outputs": [],
   "source": [
    "def make_square_spiral_path(frame, beam_radius):\n",
    "    \"\"\"Calcule les positions successives d'un faisceau parcourant une spirale carrée\"\"\"\n",
    "    global search_path\n",
    "\n",
    "    point = tracking_position.copy()\n",
    "    rank = frame\n",
    "    search_path[rank] = point.copy()\n",
    "    step = 0.5*beam_radius\n",
    "\n",
    "    side_length = 1\n",
    "    direction = 1\n",
    "    while rank < duration:\n",
    "        for i in range(side_length):\n",
    "            rank += 1\n",
    "            if rank >= duration:\n",
    "                return           \n",
    "            point[0] = point[0] + direction * step\n",
    "            search_path[rank] = point.copy()\n",
    "        for i in range(side_length):\n",
    "            rank += 1\n",
    "            if rank >= duration:\n",
    "                return\n",
    "            point[1] = point[1] + direction * step\n",
    "            search_path[rank] = point.copy()\n",
    "        direction *= -1\n",
    "        side_length += 1\n",
    "\n",
    "\n",
    "def make_circle_spiral_path(frame, beam_radius):\n",
    "    \"\"\"Calcule les positions successives d'un faisceau parcourant une spirale ronde\"\"\"\n",
    "    global search_path\n",
    "\n",
    "    point = tracking_position.copy()\n",
    "    rank = frame\n",
    "    search_path[rank] = point.copy()\n",
    "\n",
    "    while rank < duration - 1:\n",
    "        theta = a * rank  # Angle qui tourne\n",
    "        r = b * rank      # Rayon qui grandit\n",
    "        x = 50 + r * np.cos(theta)\n",
    "        y = 50 + r * np.sin(theta)\n",
    "        search_path[rank] = np.array([x, y])\n",
    "        rank += 1"
   ]
  },
  {
   "cell_type": "markdown",
   "metadata": {},
   "source": [
    "C. Calcul des déplacements des éléments"
   ]
  },
  {
   "cell_type": "code",
   "execution_count": null,
   "metadata": {},
   "outputs": [],
   "source": [
    "def move_target():\n",
    "    \"\"\"Met à jour les position et vitesse de la cible\"\"\"\n",
    "    global target_position\n",
    "    global target_speed\n",
    "\n",
    "    x, y = target_position\n",
    "    vx, vy = target_speed\n",
    "\n",
    "    new_x = x + vx*dt + random.gauss(0, noise*vx*dt)\n",
    "    new_y = y + vy*dt + random.gauss(0, noise*vy*dt)\n",
    "    new_vx = (new_x - x) / dt\n",
    "    new_vy = (new_y - y) / dt\n",
    "    \n",
    "    target_position = np.array([new_x, new_y])\n",
    "    target_speed = np.array([new_vx, new_vy])\n",
    "    target_position = np.clip(target_position, 0, window_size)\n",
    "    target_speed = np.clip(target_speed, 0, window_size)\n",
    "\n",
    "    # Limiter la taille de l'historique pour éviter une surcharge mémoire\n",
    "    if len(target_history) > 50:\n",
    "        target_history.pop(0)\n",
    "    target_history.append(target_position.copy())\n",
    "\n",
    "\n",
    "def search_target(frame):\n",
    "    \"\"\"Met à jour la position d'un faisceau cherchant la cible\"\"\"\n",
    "    global tracking_position, is_target_found, beam_radius\n",
    "    tracking_position = np.clip(search_path[frame], 0, window_size)\n",
    "\n",
    "    if len(tracking_history) > 50:\n",
    "        tracking_history.pop(0)\n",
    "    tracking_history.append(tracking_position.copy())\n",
    "\n",
    "    if detect_target(beam_radius):\n",
    "        if beam_radius <= resolution:\n",
    "            is_target_found = True\n",
    "        else:\n",
    "            beam_radius /= 2\n",
    "            make_square_spiral_path(frame, beam_radius)\n",
    "            \n",
    "\n",
    "def track_target(frame):\n",
    "    \"\"\"Met à jour la position d'un faisceau traquant une cible qu'il a déjà trouvé\"\"\"\n",
    "    global is_target_found\n",
    "    if not detect_target(beam_radius):\n",
    "        is_target_found = False\n",
    "        make_square_spiral_path(frame, beam_radius)    \n"
   ]
  },
  {
   "cell_type": "markdown",
   "metadata": {},
   "source": [
    "D. Mise à jour de l'animation"
   ]
  },
  {
   "cell_type": "code",
   "execution_count": null,
   "metadata": {},
   "outputs": [],
   "source": [
    "def update(frame):\n",
    "    \"\"\"Détermine l'état de la frame suivante\"\"\"\n",
    "    global tracking_position, target_position\n",
    "\n",
    "    move_target()\n",
    "    if is_target_found:\n",
    "        track_target(frame)        \n",
    "    else :\n",
    "        search_target(frame)\n",
    "\n",
    "    # Mise à jour des données des objets graphiques\n",
    "    target_x, target_y = zip(*target_history)\n",
    "    tracking_x, tracking_y = zip(*tracking_history)\n",
    "\n",
    "    target_line.set_data(target_x, target_y)\n",
    "    tracking_line.set_data(tracking_x, tracking_y)\n",
    "    target_dot.set_data(target_position[0], target_position[1])\n",
    "    sensor_dot.set_data(sensor_position[0], sensor_position[1])\n",
    "    tracking_dot.set_data(tracking_position[0], tracking_position[1])\n",
    "\n",
    "    return target_line, target_dot, sensor_dot, tracking_line, tracking_dot,"
   ]
  },
  {
   "cell_type": "markdown",
   "metadata": {},
   "source": [
    "E. Exécution"
   ]
  },
  {
   "cell_type": "code",
   "execution_count": null,
   "metadata": {},
   "outputs": [],
   "source": [
    "\n",
    "beam_radius = calculate_radius(distance, angle)\n",
    "make_square_spiral_path(0, beam_radius)\n",
    "\n",
    "ani = animation.FuncAnimation(fig, update, frames=1000, interval=100, blit=True)\n",
    "plt.show()"
   ]
  },
  {
   "cell_type": "markdown",
   "metadata": {},
   "source": [
    "3. Génération de trajectoire "
   ]
  },
  {
   "cell_type": "markdown",
   "metadata": {},
   "source": [
    "A. Paramètres"
   ]
  },
  {
   "cell_type": "code",
   "execution_count": null,
   "metadata": {},
   "outputs": [],
   "source": [
    "from scipy.interpolate import lagrange\n",
    "\n",
    "n = 100       # Number of trajectories\n",
    "max_deg_x = 4  # Maximum degree for x(t)\n",
    "max_deg_y = 3  # Maximum degree for y(t)"
   ]
  },
  {
   "cell_type": "markdown",
   "metadata": {},
   "source": [
    "B. Génération et Affichage"
   ]
  },
  {
   "cell_type": "code",
   "execution_count": null,
   "metadata": {},
   "outputs": [],
   "source": [
    "def sample_z():\n",
    "    while True:\n",
    "        z = np.random.uniform(-np.sqrt(2/np.pi), np.sqrt(2/np.pi))\n",
    "        p_z = np.sqrt((2/np.pi) - z**2)\n",
    "        if np.random.uniform(0, np.sqrt(2/np.pi)) <= p_z:\n",
    "            return z\n",
    "\n",
    "def generate_lagrange_polynomial(max_degree):\n",
    "    degree = np.random.choice(range(1, max_degree + 1))  # Randomly select the polynomial degree\n",
    "    t_points = np.linspace(100, 500, degree + 1)\n",
    "    values = 20 * (np.pi / 2) * np.array([sample_z() for _ in range(degree + 1)])\n",
    "    return lagrange(t_points, values)\n",
    "\n",
    "def add_noise_to_trajectories(trajectories, mu, sigma):\n",
    "    noisy_trajectories = []\n",
    "    for trajectory in trajectories:\n",
    "        t, x_t, y_t = trajectory\n",
    "        noise_x = np.random.normal(mu, sigma, size=x_t.shape)\n",
    "        noise_y = np.random.normal(mu, sigma, size=y_t.shape)\n",
    "        x_t_noisy = x_t + noise_x\n",
    "        y_t_noisy = y_t + noise_y\n",
    "        noisy_trajectories.append((t, x_t_noisy, y_t_noisy))\n",
    "    return noisy_trajectories\n",
    "\n",
    "def generate_trajectories(n, max_deg_x, max_deg_y):\n",
    "    trajectories = []\n",
    "    for _ in range(n):\n",
    "        poly_x = generate_lagrange_polynomial(max_deg_x)\n",
    "        poly_y = generate_lagrange_polynomial(max_deg_y)\n",
    "        t = np.linspace(100, 500, 1000)\n",
    "        x_t = poly_x(t)\n",
    "        y_t = poly_y(t)\n",
    "        trajectories.append((t, x_t, y_t))\n",
    "    return trajectories\n",
    "\n",
    "def plot_trajectories(trajectories):\n",
    "    n = len(trajectories)\n",
    "    rows = int(np.ceil(np.sqrt(n)))\n",
    "    cols = int(np.ceil(n / rows))\n",
    "    \n",
    "    fig, axes = plt.subplots(rows, cols, figsize=(cols * 5, rows * 5))\n",
    "    axes = np.array(axes).flatten()\n",
    "    \n",
    "    for i, (t, x_t, y_t) in enumerate(trajectories):\n",
    "        ax = axes[i]\n",
    "        ax.plot(x_t, y_t)\n",
    "        ax.set_xlabel(\"x(t)\")\n",
    "        ax.set_ylabel(\"y(t)\")\n",
    "        ax.set_title(f\"Curve {i+1}\")\n",
    "        ax.grid()\n",
    "    \n",
    "    for j in range(n, len(axes)):\n",
    "        fig.delaxes(axes[j])\n",
    "    \n",
    "    plt.tight_layout()\n",
    "    plt.show()"
   ]
  },
  {
   "cell_type": "markdown",
   "metadata": {},
   "source": [
    "C. Exécution"
   ]
  },
  {
   "cell_type": "code",
   "execution_count": null,
   "metadata": {},
   "outputs": [
    {
     "ename": "NameError",
     "evalue": "name 'plt' is not defined",
     "output_type": "error",
     "traceback": [
      "\u001b[1;31m---------------------------------------------------------------------------\u001b[0m",
      "\u001b[1;31mNameError\u001b[0m                                 Traceback (most recent call last)",
      "Cell \u001b[1;32mIn[20], line 1\u001b[0m\n\u001b[1;32m----> 1\u001b[0m \u001b[43mplot_n_curves\u001b[49m\u001b[43m(\u001b[49m\u001b[43mn\u001b[49m\u001b[43m,\u001b[49m\u001b[43m \u001b[49m\u001b[43mmax_deg_x\u001b[49m\u001b[43m,\u001b[49m\u001b[43m \u001b[49m\u001b[43mmax_deg_y\u001b[49m\u001b[43m)\u001b[49m\n",
      "Cell \u001b[1;32mIn[9], line 19\u001b[0m, in \u001b[0;36mplot_n_curves\u001b[1;34m(n, max_deg_x, max_deg_y)\u001b[0m\n\u001b[0;32m     16\u001b[0m rows \u001b[38;5;241m=\u001b[39m \u001b[38;5;28mint\u001b[39m(np\u001b[38;5;241m.\u001b[39mceil(np\u001b[38;5;241m.\u001b[39msqrt(n)))\n\u001b[0;32m     17\u001b[0m cols \u001b[38;5;241m=\u001b[39m \u001b[38;5;28mint\u001b[39m(np\u001b[38;5;241m.\u001b[39mceil(n \u001b[38;5;241m/\u001b[39m rows))\n\u001b[1;32m---> 19\u001b[0m fig, axes \u001b[38;5;241m=\u001b[39m \u001b[43mplt\u001b[49m\u001b[38;5;241m.\u001b[39msubplots(rows, cols, figsize\u001b[38;5;241m=\u001b[39m(cols \u001b[38;5;241m*\u001b[39m \u001b[38;5;241m5\u001b[39m, rows \u001b[38;5;241m*\u001b[39m \u001b[38;5;241m5\u001b[39m))\n\u001b[0;32m     20\u001b[0m axes \u001b[38;5;241m=\u001b[39m np\u001b[38;5;241m.\u001b[39marray(axes)\u001b[38;5;241m.\u001b[39mflatten()\n\u001b[0;32m     22\u001b[0m \u001b[38;5;28;01mfor\u001b[39;00m i \u001b[38;5;129;01min\u001b[39;00m \u001b[38;5;28mrange\u001b[39m(n):\n\u001b[0;32m     23\u001b[0m     \u001b[38;5;66;03m# Generate Lagrange interpolating polynomials with random degrees\u001b[39;00m\n",
      "\u001b[1;31mNameError\u001b[0m: name 'plt' is not defined"
     ]
    }
   ],
   "source": [
    "trajectories = add_noise_to_trajectories(generate_trajectories(n, max_deg_x, max_deg_y), 0, 0.05)\n",
    "plot_trajectories(trajectories[:10])  # Plot only 10 trajectories"
   ]
  },
  {
   "cell_type": "code",
   "execution_count": null,
   "metadata": {},
   "outputs": [],
   "source": []
  },
  {
   "cell_type": "markdown",
   "metadata": {},
   "source": [
    "4. Prise en compte de la diffusion de l'eau"
   ]
  },
  {
   "cell_type": "markdown",
   "metadata": {},
   "source": [
    "A. Génération de données, histogramme de valeurs et courbes COR"
   ]
  },
  {
   "cell_type": "code",
   "execution_count": null,
   "metadata": {},
   "outputs": [],
   "source": [
    "from scipy.stats import gamma\n",
    "from scipy.special import gammaln\n",
    "from scipy.optimize import minimize\n",
    "\n",
    "# Log-likelihood function to maximize\n",
    "def log_likelihood(mean, alpha, yi):\n",
    "    P = len(yi)\n",
    "    return (P * alpha * np.log(alpha / mean)\n",
    "        - P * gammaln(alpha)\n",
    "        + (alpha - 1) * np.sum(np.log(yi))\n",
    "        - (alpha / mean) * np.sum(yi))\n",
    "\n",
    "# Maximum likelihood estimation of mean\n",
    "def max_log_likelihood(alpha, yi):\n",
    "    result = minimize(lambda m: -log_likelihood(m, alpha, yi), [1.0], method='BFGS')\n",
    "    return result.x[0]\n",
    "\n",
    "# Data generation function\n",
    "def generate_data(alpha, P, n, m0, r):\n",
    "    m1 = m0 * (1 + r)\n",
    "    y0 = np.random.gamma(alpha, m0 / alpha, P * n)\n",
    "    y1 = np.random.gamma(alpha, m1 / alpha, P * n)\n",
    "    means0 = np.mean(y0.reshape(n, P), axis=1)\n",
    "    means1 = np.mean(y1.reshape(n, P), axis=1)\n",
    "    ml0 = np.array([max_log_likelihood(alpha, y0[i * P : (i + 1) * P]) for i in range(n)])\n",
    "    ml1 = np.array([max_log_likelihood(alpha, y1[i * P : (i + 1) * P]) for i in range(n)])\n",
    "    l0_0 = np.array([log_likelihood(m0, alpha, y0[i * P : (i + 1) * P]) for i in range(n)])\n",
    "    l1_0 = np.array([log_likelihood(m1, alpha, y0[i * P : (i + 1) * P]) for i in range(n)])\n",
    "    l0_1 = np.array([log_likelihood(m0, alpha, y1[i * P : (i + 1) * P]) for i in range(n)])\n",
    "    l1_1 = np.array([log_likelihood(m1, alpha, y1[i * P : (i + 1) * P]) for i in range(n)])\n",
    "    return l0_0, l1_0, l0_1, l1_1\n",
    "\n",
    "# Histogram plotting function\n",
    "def plot_histograms(l0, l1):\n",
    "    diff_0 = l1[0] - l0[0]  # l1_0 - l0_0\n",
    "    diff_1 = l1[1] - l0[1]  # l1_1 - l0_1\n",
    "    plt.figure(figsize=(8, 6))\n",
    "    plt.hist([diff_0, diff_1], bins=50, density=True, color=['blue', 'red'], alpha=0.7,\n",
    "             label=[\"$l_{1,0} - l_{0,0}$\", \"$l_{1,1} - l_{0,1}$\"])\n",
    "    plt.axvline(0, color='black', linestyle='--', linewidth=1, label='Zero')\n",
    "    plt.xlabel(\"Value\")\n",
    "    plt.ylabel(\"Frequency\")\n",
    "    plt.grid()\n",
    "    plt.legend()\n",
    "    plt.show()\n",
    "\n",
    "# ROC curve plotting function\n",
    "def plot_roc(diff_0, diff_1, num_thresholds=1000):\n",
    "    thresholds = np.linspace(min(diff_0.min(), diff_1.min()), max(diff_0.max(), diff_1.max()), num_thresholds)\n",
    "    p_fa = [(diff_0 >= t).mean() for t in thresholds]\n",
    "    p_d = [(diff_1 >= t).mean() for t in thresholds]\n",
    "    plt.figure(figsize=(8, 6))\n",
    "    plt.plot(p_fa, p_d, color='blue', label='ROC Curve')\n",
    "    plt.xscale('log')\n",
    "    plt.xlabel(r'$ P_{fa} $')\n",
    "    plt.ylim([0, 1.05])\n",
    "    plt.xlim([1e-5, 1])\n",
    "    plt.ylabel(r'$ P_{de} $')\n",
    "    plt.grid()\n",
    "    plt.legend()\n",
    "    plt.show()"
   ]
  },
  {
   "cell_type": "markdown",
   "metadata": {},
   "source": [
    "B. Test"
   ]
  },
  {
   "cell_type": "code",
   "execution_count": null,
   "metadata": {},
   "outputs": [],
   "source": [
    "# Generate data and plot results\n",
    "l0_0, l1_0, l0_1, l1_1 = generate_data(2, 10, 1000000, 5, 0.5)\n",
    "plot_histograms([l0_0, l0_1], [l1_0, l1_1])\n",
    "plot_roc(l1_0 - l0_0, l1_1 - l0_1)"
   ]
  }
 ],
 "metadata": {
  "kernelspec": {
   "display_name": "env397",
   "language": "python",
   "name": "python3"
  },
  "language_info": {
   "codemirror_mode": {
    "name": "ipython",
    "version": 3
   },
   "file_extension": ".py",
   "mimetype": "text/x-python",
   "name": "python",
   "nbconvert_exporter": "python",
   "pygments_lexer": "ipython3",
   "version": "3.9.7"
  }
 },
 "nbformat": 4,
 "nbformat_minor": 2
}
