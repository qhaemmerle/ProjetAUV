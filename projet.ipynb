{
 "cells": [
  {
   "cell_type": "markdown",
   "metadata": {},
   "source": [
    "# 1. Initialisation"
   ]
  },
  {
   "cell_type": "markdown",
   "metadata": {},
   "source": [
    "Importations"
   ]
  },
  {
   "cell_type": "code",
   "execution_count": 108,
   "metadata": {},
   "outputs": [],
   "source": [
    "import numpy as np\n",
    "import matplotlib\n",
    "matplotlib.use(\"TkAgg\")  # Ou \"Qt5Agg\"\n",
    "import matplotlib.pyplot as plt\n",
    "import matplotlib.animation as animation\n",
    "import random"
   ]
  },
  {
   "cell_type": "markdown",
   "metadata": {},
   "source": [
    "Paramètres du modèle"
   ]
  },
  {
   "cell_type": "code",
   "execution_count": 109,
   "metadata": {},
   "outputs": [],
   "source": [
    "window_size = 7\n",
    "distance = 5\n",
    "angle = 0.2\n",
    "dt = 1\n",
    "noise = 0.1\n",
    "resolution = 0.002\n",
    "duration = 1000\n",
    "beam_radius = 0\n",
    "a = 0.3  # Facteur d'expansion de la spirale\n",
    "b = 0.1  # Facteur de croissance du rayon"
   ]
  },
  {
   "cell_type": "markdown",
   "metadata": {},
   "source": [
    "Initialisation des positions"
   ]
  },
  {
   "cell_type": "code",
   "execution_count": null,
   "metadata": {},
   "outputs": [],
   "source": [
    "target_position = np.array([np.random.uniform(window_size/4, 3*window_size/4), np.random.uniform(window_size/4, 3*window_size/4)])\n",
    "target_speed = np.array([np.random.uniform(-0.1, 0.1), np.random.uniform(-0.1, 0.1)])\n",
    "sensor_position = np.array([window_size/2, window_size/2])\n",
    "tracking_position = np.copy(sensor_position)\n",
    "\n",
    "target_history = [target_position.copy()]\n",
    "tracking_history = [tracking_position.copy()]\n",
    "\n",
    "is_target_found = False\n",
    "\n",
    "search_path = [(0, 0)] * duration"
   ]
  },
  {
   "cell_type": "markdown",
   "metadata": {},
   "source": [
    "Initialisation du plot"
   ]
  },
  {
   "cell_type": "code",
   "execution_count": 111,
   "metadata": {},
   "outputs": [
    {
     "data": {
      "text/plain": [
       "Text(0.5, 1.0, 'Simulation Pointing, Acquisition, and Tracking (PAT)')"
      ]
     },
     "execution_count": 111,
     "metadata": {},
     "output_type": "execute_result"
    }
   ],
   "source": [
    "fig, ax = plt.subplots()\n",
    "ax.set_xlim(0, window_size)\n",
    "ax.set_ylim(0, window_size)\n",
    "target_line, = ax.plot([], [], 'r--', alpha=0.5, label=\"Trajectoire cible\")\n",
    "tracking_line, = ax.plot([], [], 'b--', alpha=0.5, label=\"Trajectoire suivi\")\n",
    "sensor_dot, = ax.plot([], [], 'go', markersize=8, label=\"Capteur\")\n",
    "target_dot, = ax.plot([], [], 'ro', markersize=8, label=\"Cible\")\n",
    "tracking_dot, = ax.plot([], [], 'bo', markersize=8, label=\"Tracking\")\n",
    "ax.legend()\n",
    "ax.set_title(\"Simulation Pointing, Acquisition, and Tracking (PAT)\")"
   ]
  },
  {
   "cell_type": "markdown",
   "metadata": {},
   "source": [
    "# 2. PAT"
   ]
  },
  {
   "cell_type": "markdown",
   "metadata": {},
   "source": [
    "A. Outils"
   ]
  },
  {
   "cell_type": "code",
   "execution_count": 112,
   "metadata": {},
   "outputs": [],
   "source": [
    "def calculate_radius(distance, angle):\n",
    "    \"\"\"Calcule le rayon d'un faisceau à une certaine distance de la source\"\"\"\n",
    "    radius = distance * np.tan(angle)\n",
    "    return radius\n",
    "\n",
    "\n",
    "def detect_target(beam_radius):\n",
    "    \"\"\"Teste si la cible est dans le rayon du faisceau\"\"\"\n",
    "    distance = np.linalg.norm(target_position - tracking_position)\n",
    "    return distance <= beam_radius"
   ]
  },
  {
   "cell_type": "markdown",
   "metadata": {},
   "source": [
    "B. Calcul du parcours du faisceau"
   ]
  },
  {
   "cell_type": "code",
   "execution_count": 113,
   "metadata": {},
   "outputs": [],
   "source": [
    "def make_square_spiral_path(frame, beam_radius):\n",
    "    \"\"\"Calcule les positions successives d'un faisceau parcourant une spirale carrée\"\"\"\n",
    "    global search_path\n",
    "\n",
    "    point = tracking_position.copy()\n",
    "    rank = frame\n",
    "    search_path[rank] = point.copy()\n",
    "    step = 0.5*beam_radius\n",
    "\n",
    "    side_length = 1\n",
    "    direction = 1\n",
    "    while rank < duration:\n",
    "        for i in range(side_length):\n",
    "            rank += 1\n",
    "            if rank >= duration:\n",
    "                return           \n",
    "            point[0] = point[0] + direction * step\n",
    "            search_path[rank] = point.copy()\n",
    "        for i in range(side_length):\n",
    "            rank += 1\n",
    "            if rank >= duration:\n",
    "                return\n",
    "            point[1] = point[1] + direction * step\n",
    "            search_path[rank] = point.copy()\n",
    "        direction *= -1\n",
    "        side_length += 1\n",
    "\n",
    "\n",
    "def make_circle_spiral_path(frame, beam_radius):\n",
    "    \"\"\"Calcule les positions successives d'un faisceau parcourant une spirale ronde\"\"\"\n",
    "    global search_path\n",
    "\n",
    "    point = tracking_position.copy()\n",
    "    rank = frame\n",
    "    search_path[rank] = point.copy()\n",
    "\n",
    "    while rank < duration - 1:\n",
    "        theta = a * rank  # Angle qui tourne\n",
    "        r = b * rank      # Rayon qui grandit\n",
    "        x = 50 + r * np.cos(theta)\n",
    "        y = 50 + r * np.sin(theta)\n",
    "        search_path[rank] = np.array([x, y])\n",
    "        rank += 1"
   ]
  },
  {
   "cell_type": "markdown",
   "metadata": {},
   "source": [
    "C. Calcul des déplacements des éléments"
   ]
  },
  {
   "cell_type": "code",
   "execution_count": 114,
   "metadata": {},
   "outputs": [],
   "source": [
    "def move_target():\n",
    "    \"\"\"Met à jour les position et vitesse de la cible\"\"\"\n",
    "    global target_position\n",
    "    global target_speed\n",
    "\n",
    "    x, y = target_position\n",
    "    vx, vy = target_speed\n",
    "\n",
    "    new_x = x + vx*dt + random.gauss(0, noise*vx*dt)\n",
    "    new_y = y + vy*dt + random.gauss(0, noise*vy*dt)\n",
    "    new_vx = (new_x - x) / dt\n",
    "    new_vy = (new_y - y) / dt\n",
    "    \n",
    "    target_position = np.array([new_x, new_y])\n",
    "    target_speed = np.array([new_vx, new_vy])\n",
    "    target_position = np.clip(target_position, 0, window_size)\n",
    "    target_speed = np.clip(target_speed, 0, window_size)\n",
    "\n",
    "    # Limiter la taille de l'historique pour éviter une surcharge mémoire\n",
    "    if len(target_history) > 50:\n",
    "        target_history.pop(0)\n",
    "    target_history.append(target_position.copy())\n",
    "\n",
    "\n",
    "def search_target(frame):\n",
    "    \"\"\"Met à jour la position d'un faisceau cherchant la cible\"\"\"\n",
    "    global tracking_position, is_target_found, beam_radius\n",
    "    tracking_position = np.clip(search_path[frame], 0, window_size)\n",
    "\n",
    "    if len(tracking_history) > 50:\n",
    "        tracking_history.pop(0)\n",
    "    tracking_history.append(tracking_position.copy())\n",
    "\n",
    "    if detect_target(beam_radius):\n",
    "        if beam_radius <= resolution:\n",
    "            is_target_found = True\n",
    "        else:\n",
    "            beam_radius /= 2\n",
    "            make_square_spiral_path(frame, beam_radius)\n",
    "            \n",
    "\n",
    "def track_target(frame):\n",
    "    \"\"\"Met à jour la position d'un faisceau traquant une cible qu'il a déjà trouvé\"\"\"\n",
    "    global is_target_found\n",
    "    if not detect_target(beam_radius):\n",
    "        is_target_found = False\n",
    "        make_square_spiral_path(frame, beam_radius)    \n"
   ]
  },
  {
   "cell_type": "markdown",
   "metadata": {},
   "source": [
    "D. Mise à jour de l'animation"
   ]
  },
  {
   "cell_type": "code",
   "execution_count": 115,
   "metadata": {},
   "outputs": [],
   "source": [
    "def update(frame):\n",
    "    \"\"\"Détermine l'état de la frame suivante\"\"\"\n",
    "    global tracking_position, target_position\n",
    "\n",
    "    move_target()\n",
    "    if is_target_found:\n",
    "        track_target(frame)        \n",
    "    else :\n",
    "        search_target(frame)\n",
    "\n",
    "    # Mise à jour des données des objets graphiques\n",
    "    target_x, target_y = zip(*target_history)\n",
    "    tracking_x, tracking_y = zip(*tracking_history)\n",
    "\n",
    "    target_line.set_data(target_x, target_y)\n",
    "    tracking_line.set_data(tracking_x, tracking_y)\n",
    "    target_dot.set_data(target_position[0], target_position[1])\n",
    "    sensor_dot.set_data(sensor_position[0], sensor_position[1])\n",
    "    tracking_dot.set_data(tracking_position[0], tracking_position[1])\n",
    "\n",
    "    return target_line, target_dot, sensor_dot, tracking_line, tracking_dot,"
   ]
  },
  {
   "cell_type": "markdown",
   "metadata": {},
   "source": [
    "E. Exécution"
   ]
  },
  {
   "cell_type": "code",
   "execution_count": 116,
   "metadata": {},
   "outputs": [],
   "source": [
    "\n",
    "beam_radius = calculate_radius(distance, angle)\n",
    "make_square_spiral_path(0, beam_radius)\n",
    "\n",
    "ani = animation.FuncAnimation(fig, update, frames=1000, interval=100, blit=True)\n",
    "plt.show()"
   ]
  }
 ],
 "metadata": {
  "kernelspec": {
   "display_name": "env397",
   "language": "python",
   "name": "python3"
  },
  "language_info": {
   "codemirror_mode": {
    "name": "ipython",
    "version": 3
   },
   "file_extension": ".py",
   "mimetype": "text/x-python",
   "name": "python",
   "nbconvert_exporter": "python",
   "pygments_lexer": "ipython3",
   "version": "3.9.7"
  }
 },
 "nbformat": 4,
 "nbformat_minor": 2
}
