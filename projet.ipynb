{
 "cells": [
  {
   "cell_type": "markdown",
   "metadata": {},
   "source": [
    "# 1. Initialisation"
   ]
  },
  {
   "cell_type": "markdown",
   "metadata": {},
   "source": [
    "Importations"
   ]
  },
  {
   "cell_type": "code",
   "execution_count": 10,
   "metadata": {},
   "outputs": [],
   "source": [
    "import numpy as np\n",
    "import matplotlib\n",
    "matplotlib.use(\"TkAgg\")  # Ou \"Qt5Agg\"\n",
    "import matplotlib.pyplot as plt\n",
    "import matplotlib.animation as animation\n",
    "import random"
   ]
  },
  {
   "cell_type": "markdown",
   "metadata": {},
   "source": [
    "Paramètres du modèle"
   ]
  },
  {
   "cell_type": "code",
   "execution_count": 11,
   "metadata": {},
   "outputs": [],
   "source": [
    "SIM_DURATION = 1000\n",
    "\n",
    "WINDOW_SIZE = 7\n",
    "DISTANCE = 5\n",
    "BEAM_ANGLE = 0.2\n",
    "\n",
    "DT = 1\n",
    "NOISE = 0.1\n",
    "\n",
    "RESOLUTION = 0.005\n",
    "RADIUS_DECREASE_COEF = 0.5\n",
    "RADIUS_INCREASE_COEF = 2\n",
    "\n",
    "STEP_COEF = np.sqrt(2)\n",
    "\n",
    "beam_radius = 0\n",
    "power = 0"
   ]
  },
  {
   "cell_type": "code",
   "execution_count": 12,
   "metadata": {},
   "outputs": [],
   "source": [
    "target_position = np.array([np.random.uniform(WINDOW_SIZE/4, 3*WINDOW_SIZE/4), np.random.uniform(WINDOW_SIZE/4, 3*WINDOW_SIZE/4)])\n",
    "# target_speed = np.array([np.random.uniform(-0.1, 0.1), np.random.uniform(-0.1, 0.1)])\n",
    "target_speed = np.array([0, 0])\n",
    "# target_position = np.array([WINDOW_SIZE, WINDOW_SIZE])    # Pour écarter l'AUV du centre\n",
    "sensor_position = np.array([WINDOW_SIZE/2, WINDOW_SIZE/2])\n",
    "tracking_position = np.copy(sensor_position)\n",
    "\n",
    "target_history = [target_position.copy()]\n",
    "tracking_history = [tracking_position.copy()]\n",
    "\n",
    "is_target_found = False\n",
    "\n",
    "search_path = [(0, 0)] * SIM_DURATION\n",
    "\n",
    "#Paramètres du déplacement du capteur\n",
    "initial_axis = 0\n",
    "axis = 0\n",
    "direction = 1\n",
    "side_length = 1\n",
    "current_length = 0"
   ]
  },
  {
   "cell_type": "markdown",
   "metadata": {},
   "source": [
    "Initialisation du plot"
   ]
  },
  {
   "cell_type": "code",
   "execution_count": 13,
   "metadata": {},
   "outputs": [
    {
     "data": {
      "text/plain": [
       "Text(0.5, 1.0, 'Simulation Pointing, Acquisition, and Tracking (PAT)')"
      ]
     },
     "execution_count": 13,
     "metadata": {},
     "output_type": "execute_result"
    }
   ],
   "source": [
    "fig, ax = plt.subplots()\n",
    "ax.set_xlim(0, WINDOW_SIZE)\n",
    "ax.set_ylim(0, WINDOW_SIZE)\n",
    "target_line, = ax.plot([], [], 'r--', alpha=0.5, label=\"Trajectoire cible\")\n",
    "tracking_line, = ax.plot([], [], 'b--', alpha=0.5, label=\"Trajectoire suivi\")\n",
    "sensor_dot, = ax.plot([], [], 'go', markersize=8, label=\"Capteur\")\n",
    "target_dot, = ax.plot([], [], 'ro', markersize=8, label=\"Cible\")\n",
    "tracking_dot, = ax.plot([], [], 'bo', markersize=8, label=\"Tracking\")\n",
    "ax.legend()\n",
    "ax.set_title(\"Simulation Pointing, Acquisition, and Tracking (PAT)\")"
   ]
  },
  {
   "cell_type": "markdown",
   "metadata": {},
   "source": [
    "# 2. PAT"
   ]
  },
  {
   "cell_type": "markdown",
   "metadata": {},
   "source": [
    "A. Outils"
   ]
  },
  {
   "cell_type": "code",
   "execution_count": 14,
   "metadata": {},
   "outputs": [],
   "source": [
    "def calculate_radius(distance, angle):\n",
    "    \"\"\"Calcule le rayon d'un faisceau à une certaine distance de la source\"\"\"\n",
    "    radius = distance * np.tan(angle)\n",
    "    return radius\n",
    "\n",
    "\n",
    "def calculate_distance(point1, point2):\n",
    "    \"\"\"Calcule la distance entre la cible et le centre du faisceau\"\"\"\n",
    "    distance = np.linalg.norm(point1 - point2)\n",
    "    return distance\n",
    "\n",
    "\n",
    "def detect_target():\n",
    "    \"\"\"Teste si la cible est dans le rayon du faisceau\"\"\"\n",
    "    distance = calculate_distance(tracking_position, target_position)\n",
    "    return distance <= beam_radius"
   ]
  },
  {
   "cell_type": "markdown",
   "metadata": {},
   "source": [
    "B. Calcul du parcours du faisceau"
   ]
  },
  {
   "cell_type": "code",
   "execution_count": 15,
   "metadata": {},
   "outputs": [],
   "source": [
    "def initialise_spiral_parameters(ax, dir):\n",
    "    \"\"\"Initialise les paramètres d'un déplacement en spirale commençant sur l'axe ax dans la direction dir\"\"\"\n",
    "    global initial_axis, axis, direction, side_length, current_length\n",
    "    initial_axis = ax\n",
    "    axis = ax\n",
    "    direction = dir\n",
    "    side_length = 1\n",
    "    current_length = 0\n",
    "\n",
    "\n",
    "def move_sensor_spiral():\n",
    "    \"\"\"Déplace le capteur le long de la spirale\"\"\"\n",
    "    global tracking_position, axis, direction, side_length, current_length\n",
    "    point = tracking_position.copy()\n",
    "    step = STEP_COEF * beam_radius\n",
    "    if current_length < side_length: # si le segment de spirale n'est pas fini, on continue dessus\n",
    "        current_length += 1\n",
    "    else: # si l'on arrive sur un coin, on tourne\n",
    "        if axis != initial_axis:\n",
    "            direction *= -1\n",
    "            side_length += 1\n",
    "        axis = 1 - axis\n",
    "        current_length = 1\n",
    "\n",
    "    point[axis] += direction * step\n",
    "    tracking_position = np.clip(point.copy(), 0, WINDOW_SIZE)\n",
    "\n",
    "\n",
    "def check_neighbourhood():\n",
    "\n",
    "    print(beam_radius)\n",
    "    center = tracking_position\n",
    "    closest_point = center.copy()\n",
    "    min_dist = calculate_distance(closest_point, target_position)\n",
    "\n",
    "    for dx in [-1, 0, 1]:\n",
    "        for dy in [-1, 0, 1]:\n",
    "            center = sensor_position.copy()\n",
    "            directional_vector = np.array([dx, dy])\n",
    "            temp_position = center + beam_radius * directional_vector\n",
    "            distance = calculate_distance(temp_position, target_position)\n",
    "            if distance < min_dist:\n",
    "                closest_point = temp_position.copy()\n",
    "                min_dist = distance\n",
    "                # print(min_dist)\n",
    "    # print(closest_point)\n",
    "    # print(tracking_position)\n",
    "    # print(target_position)\n",
    "    # print(beam_radius)\n",
    "    return closest_point\n"
   ]
  },
  {
   "cell_type": "markdown",
   "metadata": {},
   "source": [
    "C. Calcul des déplacements des éléments"
   ]
  },
  {
   "cell_type": "code",
   "execution_count": 16,
   "metadata": {},
   "outputs": [],
   "source": [
    "def move_target():\n",
    "    \"\"\"Met à jour les position et vitesse de la cible\"\"\"\n",
    "    global target_position\n",
    "    global target_speed\n",
    "\n",
    "    x, y = target_position\n",
    "    vx, vy = target_speed\n",
    "\n",
    "    new_x = x + vx*DT + random.gauss(0, NOISE*vx*DT)\n",
    "    new_y = y + vy*DT + random.gauss(0, NOISE*vy*DT)\n",
    "    new_vx = (new_x - x) / DT\n",
    "    new_vy = (new_y - y) / DT\n",
    "    \n",
    "    target_position = np.array([new_x, new_y])\n",
    "    target_speed = np.array([new_vx, new_vy])\n",
    "    target_position = np.clip(target_position, 0, WINDOW_SIZE)\n",
    "    target_speed = np.clip(target_speed, 0, WINDOW_SIZE)\n",
    "\n",
    "    # Limiter la taille de l'historique pour éviter une surcharge mémoire\n",
    "    if len(target_history) > 50:\n",
    "        target_history.pop(0)\n",
    "    target_history.append(target_position.copy())\n",
    "\n",
    "\n",
    "def search_target(frame):\n",
    "    \"\"\"Met à jour la position d'un faisceau cherchant la cible\"\"\"\n",
    "    global tracking_position, is_target_found, beam_radius\n",
    "    # tracking_position = np.clip(search_path[frame], 0, WINDOW_SIZE)\n",
    "    move_sensor_spiral()\n",
    "    # print(\"search\")\n",
    "\n",
    "    if len(tracking_history) > 50:\n",
    "        tracking_history.pop(0)\n",
    "    tracking_history.append(tracking_position.copy())\n",
    "\n",
    "    if detect_target():\n",
    "        if beam_radius <= calculate_radius(DISTANCE, RESOLUTION):\n",
    "            is_target_found = True\n",
    "            print(\"found\")\n",
    "        else:\n",
    "            beam_radius *= RADIUS_DECREASE_COEF\n",
    "            # print(\"decrease\")\n",
    "            initialise_spiral_parameters(axis, direction)\n",
    "\n",
    "\n",
    "def track_target(frame):\n",
    "    \"\"\"Met à jour la position d'un faisceau traquant une cible qu'il a déjà trouvé\"\"\"\n",
    "    global tracking_position, beam_radius\n",
    "    \n",
    "    if len(tracking_history) > 50:\n",
    "        tracking_history.pop(0)\n",
    "    tracking_history.append(tracking_position.copy())\n",
    "    \n",
    "    if not detect_target():\n",
    "        print(\"increase\")\n",
    "        beam_radius *= RADIUS_INCREASE_COEF\n",
    "    else:\n",
    "        # print(\"tracking\")\n",
    "        tracking_position = check_neighbourhood()\n",
    "        beam_radius *= RADIUS_DECREASE_COEF\n",
    "\n",
    "    # if not detect_target():\n",
    "    #     is_target_found = False\n",
    "    #     # make_square_spiral_path(frame, beam_radius)\n",
    "    #     # beam_radius *= RADIUS_INCREASE_COEF\n",
    "    #     beam_radius = calculate_radius(DISTANCE, BEAM_ANGLE)\n",
    "    #     initialise_spiral_parameters(axis, direction)\n"
   ]
  },
  {
   "cell_type": "markdown",
   "metadata": {},
   "source": [
    "D. Mise à jour de l'animation"
   ]
  },
  {
   "cell_type": "code",
   "execution_count": 17,
   "metadata": {},
   "outputs": [],
   "source": [
    "def update(frame):\n",
    "    \"\"\"Détermine l'état de la frame suivante\"\"\"\n",
    "    global tracking_position, target_position\n",
    "\n",
    "    if frame % 5 == 0:\n",
    "        move_target()\n",
    "    if is_target_found:\n",
    "        track_target(frame)        \n",
    "    else :\n",
    "        search_target(frame)\n",
    "\n",
    "    # Mise à jour des données des objets graphiques\n",
    "    target_x, target_y = zip(*target_history)\n",
    "    tracking_x, tracking_y = zip(*tracking_history)\n",
    "\n",
    "    target_line.set_data(target_x, target_y)\n",
    "    tracking_line.set_data(tracking_x, tracking_y)\n",
    "    target_dot.set_data([target_position[0]], [target_position[1]])\n",
    "    sensor_dot.set_data([sensor_position[0]], [sensor_position[1]])\n",
    "    tracking_dot.set_data([tracking_position[0]], [tracking_position[1]])\n",
    "\n",
    "    return target_line, target_dot, sensor_dot, tracking_line, tracking_dot,"
   ]
  },
  {
   "cell_type": "markdown",
   "metadata": {},
   "source": [
    "E. Exécution"
   ]
  },
  {
   "cell_type": "code",
   "execution_count": 18,
   "metadata": {},
   "outputs": [
    {
     "name": "stdout",
     "output_type": "stream",
     "text": [
      "1.0135501775433626\n"
     ]
    }
   ],
   "source": [
    "\n",
    "beam_radius = calculate_radius(DISTANCE, BEAM_ANGLE)\n",
    "print(beam_radius)\n",
    "initialise_spiral_parameters(axis, direction)\n",
    "# make_square_spiral_path(0, beam_radius)\n",
    "\n",
    "ani = animation.FuncAnimation(fig, update, frames=1000, interval=100, blit=True)\n",
    "plt.show()"
   ]
  }
 ],
 "metadata": {
  "kernelspec": {
   "display_name": ".venv",
   "language": "python",
   "name": "python3"
  },
  "language_info": {
   "codemirror_mode": {
    "name": "ipython",
    "version": 3
   },
   "file_extension": ".py",
   "mimetype": "text/x-python",
   "name": "python",
   "nbconvert_exporter": "python",
   "pygments_lexer": "ipython3",
   "version": "3.13.2"
  }
 },
 "nbformat": 4,
 "nbformat_minor": 2
}
