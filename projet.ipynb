{
 "cells": [
  {
   "cell_type": "markdown",
   "metadata": {},
   "source": [
    "# 1. Initialisation"
   ]
  },
  {
   "cell_type": "markdown",
   "metadata": {},
   "source": [
    "Importations"
   ]
  },
  {
   "cell_type": "code",
   "execution_count": 72,
   "metadata": {},
   "outputs": [],
   "source": [
    "import numpy as np\n",
    "import matplotlib\n",
    "matplotlib.use(\"TkAgg\")  # Ou \"Qt5Agg\"\n",
    "import matplotlib.pyplot as plt\n",
    "import matplotlib.animation as animation\n",
    "import random\n",
    "from scipy.interpolate import lagrange"
   ]
  },
  {
   "cell_type": "markdown",
   "metadata": {},
   "source": [
    "Paramètres du modèle"
   ]
  },
  {
   "cell_type": "code",
   "execution_count": 73,
   "metadata": {},
   "outputs": [],
   "source": [
    "SIM_DURATION = 1000\n",
    "\n",
    "WINDOW_SIZE = 7\n",
    "DISTANCE = 5\n",
    "BEAM_ANGLE = 0.2\n",
    "\n",
    "DT = 1\n",
    "NOISE = 0.1\n",
    "\n",
    "RESOLUTION = 0.005\n",
    "RADIUS_DECREASE_COEF = 1 / np.sqrt(2)\n",
    "RADIUS_INCREASE_COEF = np.sqrt(2)\n",
    "\n",
    "STEP_COEF = np.sqrt(2)\n",
    "\n",
    "beam_radius = 0\n",
    "power = 0"
   ]
  },
  {
   "cell_type": "code",
   "execution_count": 74,
   "metadata": {},
   "outputs": [],
   "source": [
    "# target_position = np.array([WINDOW_SIZE/2, WINDOW_SIZE/2])\n",
    "# target_speed = np.array([0, 0])\n",
    "# target_position = np.array([np.random.uniform(WINDOW_SIZE/4, 3*WINDOW_SIZE/4), np.random.uniform(WINDOW_SIZE/4, 3*WINDOW_SIZE/4)])\n",
    "# target_speed = np.array([np.random.uniform(-0.1, 0.1), np.random.uniform(-0.1, 0.1)])\n",
    "# target_position = np.array([WINDOW_SIZE, WINDOW_SIZE])    # Pour écarter l'AUV du centre\n",
    "sensor_position = np.array([WINDOW_SIZE/2, WINDOW_SIZE/2])\n",
    "tracking_position = np.copy(sensor_position)\n",
    "\n",
    "is_target_found = False\n",
    "\n",
    "# search_path = [(0, 0)] * SIM_DURATION\n",
    "\n",
    "#Paramètres du déplacement du capteur\n",
    "initial_position = tracking_position\n",
    "initial_axis = 0\n",
    "axis = 0\n",
    "direction = 1\n",
    "side_length = 1\n",
    "current_length = 0\n",
    "\n",
    "spiral_count = 0"
   ]
  },
  {
   "cell_type": "markdown",
   "metadata": {},
   "source": [
    "Initialisation du plot"
   ]
  },
  {
   "cell_type": "code",
   "execution_count": 75,
   "metadata": {},
   "outputs": [
    {
     "data": {
      "text/plain": [
       "Text(0.5, 1.0, 'Simulation Pointing, Acquisition, and Tracking (PAT)')"
      ]
     },
     "execution_count": 75,
     "metadata": {},
     "output_type": "execute_result"
    }
   ],
   "source": [
    "fig, ax = plt.subplots()\n",
    "ax.set_xlim(0, WINDOW_SIZE)\n",
    "ax.set_ylim(0, WINDOW_SIZE)\n",
    "target_line, = ax.plot([], [], 'r--', alpha=0.5, label=\"Trajectoire cible\")\n",
    "tracking_line, = ax.plot([], [], 'b--', alpha=0.5, label=\"Trajectoire suivi\")\n",
    "sensor_dot, = ax.plot([], [], 'go', markersize=8, label=\"Capteur\")\n",
    "target_dot, = ax.plot([], [], 'ro', markersize=8, label=\"Cible\")\n",
    "tracking_dot, = ax.plot([], [], 'bo', markersize=8, label=\"Tracking\")\n",
    "ax.legend()\n",
    "ax.set_title(\"Simulation Pointing, Acquisition, and Tracking (PAT)\")"
   ]
  },
  {
   "cell_type": "markdown",
   "metadata": {},
   "source": [
    "# 2. Génération de trajectoire"
   ]
  },
  {
   "cell_type": "markdown",
   "metadata": {},
   "source": [
    "A. Paramètres"
   ]
  },
  {
   "cell_type": "code",
   "execution_count": 76,
   "metadata": {},
   "outputs": [],
   "source": [
    "NUMBER_OF_TRAJ = 100       # Number of trajectories\n",
    "MAX_DEG_X = 4  # Maximum degree for x(t)\n",
    "MAX_DEG_Y = 3  # Maximum degree for y(t)\n",
    "\n",
    "trajectory = []"
   ]
  },
  {
   "cell_type": "markdown",
   "metadata": {},
   "source": [
    "B. Génération et affichage"
   ]
  },
  {
   "cell_type": "code",
   "execution_count": 77,
   "metadata": {},
   "outputs": [],
   "source": [
    "def sample_z():\n",
    "    \"\"\"Renvoie une variable aléatoire de loi demi-cercle\"\"\"\n",
    "    while True:\n",
    "        z = np.random.uniform(-np.sqrt(2/np.pi), np.sqrt(2/np.pi))\n",
    "        p_z = np.sqrt((2/np.pi) - z**2)\n",
    "        if np.random.uniform(0, np.sqrt(2/np.pi)) <= p_z:\n",
    "            return z\n",
    "\n",
    "\n",
    "def generate_lagrange_polynomial(max_degree):\n",
    "    \"\"\"Renvoie un polynome interpolé de degré <=max_degree\"\"\"\n",
    "    degree = np.random.choice(range(1, max_degree + 1))  # Randomly select the polynomial degree\n",
    "    t_points = np.linspace(100, 500, degree + 1)\n",
    "    values = WINDOW_SIZE * (np.pi / np.sqrt(2)) * np.array([sample_z() for _ in range(degree + 1)])\n",
    "    values = (values + WINDOW_SIZE) / 2\n",
    "    return lagrange(t_points, values)\n",
    "\n",
    "\n",
    "def add_noise_to_trajectories(trajectories, mu, sigma):\n",
    "    \"\"\"Ajoute un bruit gaussien à une trajectoire\"\"\"\n",
    "    noisy_trajectories = []\n",
    "    for trajectory in trajectories:\n",
    "        t, x_t, y_t = trajectory\n",
    "        noise_x = np.random.normal(mu, sigma, size=x_t.shape)\n",
    "        noise_y = np.random.normal(mu, sigma, size=y_t.shape)\n",
    "        x_t_noisy = x_t + noise_x\n",
    "        y_t_noisy = y_t + noise_y\n",
    "        noisy_trajectories.append((t, x_t_noisy, y_t_noisy))\n",
    "    return noisy_trajectories\n",
    "\n",
    "\n",
    "def generate_trajectories(number_of_trajectories, max_deg_x, max_deg_y):\n",
    "    \"\"\"Génère un polynôme pour x et un pour y et renvoie x(t) et y(t)\"\"\"\n",
    "    trajectories = []\n",
    "    for _ in range(number_of_trajectories):\n",
    "        poly_x = generate_lagrange_polynomial(max_deg_x)\n",
    "        poly_y = generate_lagrange_polynomial(max_deg_y)\n",
    "        t = np.linspace(100, 500, 1000)\n",
    "        x_t = poly_x(t)\n",
    "        y_t = poly_y(t)\n",
    "        trajectories.append((t, x_t, y_t))\n",
    "    return trajectories\n",
    "\n",
    "\n",
    "def plot_trajectories(trajectories):\n",
    "    \"\"\"Affiche la trajectoire\"\"\"\n",
    "    n = len(trajectories)\n",
    "    rows = int(np.ceil(np.sqrt(n)))\n",
    "    cols = int(np.ceil(n / rows))\n",
    "    \n",
    "    fig, axes = plt.subplots(rows, cols, figsize=(cols * 5, rows * 5))\n",
    "    axes = np.array(axes).flatten()\n",
    "    \n",
    "    for i, (t, x_t, y_t) in enumerate(trajectories):\n",
    "        ax = axes[i]\n",
    "        ax.plot(x_t, y_t)\n",
    "        ax.set_xlabel(\"x(t)\")\n",
    "        ax.set_ylabel(\"y(t)\")\n",
    "        ax.set_title(f\"Curve {i+1}\")\n",
    "        ax.grid()\n",
    "    \n",
    "    for j in range(n, len(axes)):\n",
    "        fig.delaxes(axes[j])\n",
    "    \n",
    "    plt.tight_layout()\n",
    "    plt.show()"
   ]
  },
  {
   "cell_type": "markdown",
   "metadata": {},
   "source": [
    "C. Exécution"
   ]
  },
  {
   "cell_type": "code",
   "execution_count": 78,
   "metadata": {},
   "outputs": [],
   "source": [
    "# trajectories = add_noise_to_trajectories(generate_trajectories(NUMBER_OF_TRAJ, MAX_DEG_X, MAX_DEG_Y), 0, 0.05)\n",
    "# plot_trajectories(trajectories[:10])  # Plot only 10 trajectories\n"
   ]
  },
  {
   "cell_type": "markdown",
   "metadata": {},
   "source": [
    "# 3. PAT"
   ]
  },
  {
   "cell_type": "code",
   "execution_count": 79,
   "metadata": {},
   "outputs": [],
   "source": [
    "trajectory = add_noise_to_trajectories(generate_trajectories(1, MAX_DEG_X, MAX_DEG_Y), 0, 0.05)\n",
    "\n",
    "x0 = trajectory[0][1][0]\n",
    "y0 = trajectory[0][2][0]\n",
    "target_position = np.array([x0, y0])\n",
    "\n",
    "\n",
    "target_history = [target_position.copy()]\n",
    "tracking_history = [tracking_position.copy()]"
   ]
  },
  {
   "cell_type": "markdown",
   "metadata": {},
   "source": [
    "A. Outils"
   ]
  },
  {
   "cell_type": "code",
   "execution_count": 80,
   "metadata": {},
   "outputs": [],
   "source": [
    "def calculate_radius(distance, angle):\n",
    "    \"\"\"Calcule le rayon d'un faisceau à une certaine distance de la source\"\"\"\n",
    "    radius = distance * np.tan(angle)\n",
    "    return radius\n",
    "\n",
    "\n",
    "def calculate_distance(point1, point2):\n",
    "    \"\"\"Calcule la distance entre la cible et le centre du faisceau\"\"\"\n",
    "    distance = np.linalg.norm(point1 - point2)\n",
    "    return distance\n",
    "\n",
    "\n",
    "def detect_target():\n",
    "    \"\"\"Teste si la cible est dans le rayon du faisceau\"\"\"\n",
    "    distance = calculate_distance(tracking_position, target_position)\n",
    "    return distance <= beam_radius"
   ]
  },
  {
   "cell_type": "markdown",
   "metadata": {},
   "source": [
    "B. Calcul du parcours du faisceau"
   ]
  },
  {
   "cell_type": "code",
   "execution_count": 81,
   "metadata": {},
   "outputs": [],
   "source": [
    "def initialise_spiral_parameters(ax, dir):\n",
    "    \"\"\"Initialise les paramètres d'un déplacement en spirale commençant sur l'axe ax dans la direction dir\"\"\"\n",
    "    global initial_axis, axis, direction, side_length, current_length, initial_position, spiral_count\n",
    "    initial_axis = ax\n",
    "    axis = ax\n",
    "    direction = dir\n",
    "    side_length = 1\n",
    "    current_length = 0\n",
    "    spiral_count = 0\n",
    "\n",
    "\n",
    "def move_sensor_spiral():\n",
    "    \"\"\"Déplace le capteur le long de la spirale\"\"\"\n",
    "    global tracking_position, axis, direction, side_length, current_length, spiral_count\n",
    "    point = tracking_position.copy()\n",
    "    step = STEP_COEF * beam_radius\n",
    "    if current_length < side_length: # si le segment de spirale n'est pas fini, on continue dessus\n",
    "        current_length += 1\n",
    "    else: # si l'on arrive sur un coin, on tourne\n",
    "        if axis != initial_axis:\n",
    "            direction *= -1\n",
    "            side_length += 1\n",
    "            spiral_count += 1\n",
    "        axis = 1 - axis\n",
    "        current_length = 1\n",
    "\n",
    "    point[axis] += direction * step\n",
    "    tracking_position = np.clip(point.copy(), 0, WINDOW_SIZE)\n",
    "\n",
    "\n",
    "def check_neighbourhood():\n",
    "\n",
    "    print(beam_radius)\n",
    "    center = tracking_position\n",
    "    closest_point = center.copy()\n",
    "    min_dist = calculate_distance(closest_point, target_position)\n",
    "\n",
    "    for dx in [-1, 0, 1]:\n",
    "        for dy in [-1, 0, 1]:\n",
    "            center = tracking_position.copy()\n",
    "            directional_vector = np.array([dx, dy])\n",
    "            temp_position = center + beam_radius * directional_vector\n",
    "            distance = calculate_distance(temp_position, target_position)\n",
    "            if distance < min_dist:\n",
    "                closest_point = temp_position.copy()\n",
    "                min_dist = distance\n",
    "                # print(min_dist)\n",
    "    # print(closest_point)\n",
    "    # print(tracking_position)\n",
    "    # print(target_position)\n",
    "    # print(beam_radius)\n",
    "    return closest_point\n"
   ]
  },
  {
   "cell_type": "markdown",
   "metadata": {},
   "source": [
    "C. Calcul des déplacements des éléments"
   ]
  },
  {
   "cell_type": "code",
   "execution_count": 82,
   "metadata": {},
   "outputs": [],
   "source": [
    "def move_target():\n",
    "    \"\"\"Met à jour les position et vitesse de la cible\"\"\"\n",
    "    global target_position\n",
    "    global target_speed\n",
    "\n",
    "    x, y = target_position\n",
    "    vx, vy = target_speed\n",
    "\n",
    "    new_x = x + vx*DT + random.gauss(0, NOISE*vx*DT)\n",
    "    new_y = y + vy*DT + random.gauss(0, NOISE*vy*DT)\n",
    "    new_vx = (new_x - x) / DT\n",
    "    new_vy = (new_y - y) / DT\n",
    "    \n",
    "    target_position = np.array([new_x, new_y])\n",
    "    target_speed = np.array([new_vx, new_vy])\n",
    "    target_position = np.clip(target_position, 0, WINDOW_SIZE)\n",
    "    target_speed = np.clip(target_speed, 0, WINDOW_SIZE)\n",
    "\n",
    "    # Limiter la taille de l'historique pour éviter une surcharge mémoire\n",
    "    if len(target_history) > 50:\n",
    "        target_history.pop(0)\n",
    "    target_history.append(target_position.copy())\n",
    "\n",
    "\n",
    "def move_target_trajectory(frame, trajectory):\n",
    "\n",
    "    global target_position\n",
    "    new_x = trajectory[0][1][frame]\n",
    "    new_y = trajectory[0][2][frame]\n",
    "    target_position = np.array([new_x, new_y])\n",
    "    target_position = np.clip(target_position, 0, WINDOW_SIZE)\n",
    "\n",
    "    # Limiter la taille de l'historique pour éviter une surcharge mémoire\n",
    "    if len(target_history) > 50:\n",
    "        target_history.pop(0)\n",
    "    target_history.append(target_position.copy())\n",
    "\n",
    "\n",
    "def search_target(frame):\n",
    "    \"\"\"Met à jour la position d'un faisceau cherchant la cible\"\"\"\n",
    "    global tracking_position, is_target_found, beam_radius, initial_position, spiral_count\n",
    "    # tracking_position = np.clip(search_path[frame], 0, WINDOW_SIZE)\n",
    "    # move_sensor_spiral()\n",
    "    # print(\"search\")\n",
    "\n",
    "    if len(tracking_history) > 50:\n",
    "        tracking_history.pop(0)\n",
    "    tracking_history.append(tracking_position.copy())\n",
    "\n",
    "    if spiral_count == 4:\n",
    "        beam_radius *= RADIUS_INCREASE_COEF\n",
    "        spiral_count = 0\n",
    "        # initialise_spiral_parameters(axis, direction)\n",
    "    if detect_target():\n",
    "        if beam_radius <= calculate_radius(DISTANCE, RESOLUTION):\n",
    "            is_target_found = True\n",
    "            print(\"found\")\n",
    "        else:\n",
    "            beam_radius *= RADIUS_DECREASE_COEF\n",
    "            # print(\"decrease\")\n",
    "            initialise_spiral_parameters(axis, direction)\n",
    "            initial_position = tracking_position.copy()\n",
    "    else:\n",
    "        move_sensor_spiral()\n",
    "\n",
    "\n",
    "def track_target(frame):\n",
    "    \"\"\"Met à jour la position d'un faisceau traquant une cible qu'il a déjà trouvé\"\"\"\n",
    "    global tracking_position, beam_radius\n",
    "    \n",
    "    if len(tracking_history) > 50:\n",
    "        tracking_history.pop(0)\n",
    "    tracking_history.append(tracking_position.copy())\n",
    "    \n",
    "    if not detect_target():\n",
    "        print(\"increase\")\n",
    "        beam_radius *= RADIUS_INCREASE_COEF\n",
    "    else:\n",
    "        if beam_radius >= calculate_radius(DISTANCE, RESOLUTION):\n",
    "            beam_radius *= RADIUS_DECREASE_COEF\n",
    "            print(\"tracking\")\n",
    "        tracking_position = check_neighbourhood()\n",
    "\n",
    "    # if not detect_target():\n",
    "    #     is_target_found = False\n",
    "    #     # make_square_spiral_path(frame, beam_radius)\n",
    "    #     # beam_radius *= RADIUS_INCREASE_COEF\n",
    "    #     beam_radius = calculate_radius(DISTANCE, BEAM_ANGLE)\n",
    "    #     initialise_spiral_parameters(axis, direction)\n"
   ]
  },
  {
   "cell_type": "markdown",
   "metadata": {},
   "source": [
    "D. Mise à jour de l'animation"
   ]
  },
  {
   "cell_type": "code",
   "execution_count": 83,
   "metadata": {},
   "outputs": [],
   "source": [
    "def update(frame):\n",
    "    \"\"\"Détermine l'état de la frame suivante\"\"\"\n",
    "    global tracking_position, target_position\n",
    "    # if frame >= 1000:\n",
    "    #     return\n",
    "    \n",
    "    if frame % 5 == 0:\n",
    "        move_target_trajectory(frame, trajectory)\n",
    "    if is_target_found:\n",
    "        track_target(frame)        \n",
    "    else :\n",
    "        search_target(frame)\n",
    "\n",
    "    # Mise à jour des données des objets graphiques\n",
    "    target_x, target_y = zip(*target_history)\n",
    "    tracking_x, tracking_y = zip(*tracking_history)\n",
    "\n",
    "    target_line.set_data(target_x, target_y)\n",
    "    tracking_line.set_data(tracking_x, tracking_y)\n",
    "    target_dot.set_data([target_position[0]], [target_position[1]])\n",
    "    sensor_dot.set_data([sensor_position[0]], [sensor_position[1]])\n",
    "    tracking_dot.set_data([tracking_position[0]], [tracking_position[1]])\n",
    "\n",
    "    return target_line, target_dot, sensor_dot, tracking_line, tracking_dot,"
   ]
  },
  {
   "cell_type": "markdown",
   "metadata": {},
   "source": [
    "E. Exécution"
   ]
  },
  {
   "cell_type": "code",
   "execution_count": 84,
   "metadata": {},
   "outputs": [
    {
     "name": "stdout",
     "output_type": "stream",
     "text": [
      "1.0135501775433626\n"
     ]
    }
   ],
   "source": [
    "\n",
    "beam_radius = calculate_radius(DISTANCE, BEAM_ANGLE)\n",
    "print(beam_radius)\n",
    "initialise_spiral_parameters(axis, direction)\n",
    "# make_square_spiral_path(0, beam_radius)\n",
    "\n",
    "ani = animation.FuncAnimation(fig, update, frames=1000, interval=100, blit=True)\n",
    "plt.show()"
   ]
  },
  {
   "cell_type": "markdown",
   "metadata": {},
   "source": [
    "# 4. Prise en compte de la diffusion de l'eau"
   ]
  },
  {
   "cell_type": "markdown",
   "metadata": {},
   "source": [
    "\n",
    "A. Génération de données, histogramme de valeurs et courbes COR"
   ]
  },
  {
   "cell_type": "code",
   "execution_count": 85,
   "metadata": {},
   "outputs": [],
   "source": [
    "from scipy.stats import gamma\n",
    "from scipy.special import gammaln\n",
    "from scipy.optimize import minimize\n",
    "\n",
    "# Log-likelihood function to maximize\n",
    "def log_likelihood(mean, alpha, yi):\n",
    "    P = len(yi)\n",
    "    return (P * alpha * np.log(alpha / mean)\n",
    "        - P * gammaln(alpha)\n",
    "        + (alpha - 1) * np.sum(np.log(yi))\n",
    "        - (alpha / mean) * np.sum(yi))\n",
    "\n",
    "# Maximum likelihood estimation of mean\n",
    "def max_log_likelihood(alpha, yi):\n",
    "    result = minimize(lambda m: -log_likelihood(m, alpha, yi), [1.0], method='BFGS')\n",
    "    return result.x[0]\n",
    "\n",
    "# Data generation function\n",
    "def generate_data(alpha, P, n, m0, r):\n",
    "    m1 = m0 * (1 + r)\n",
    "    y0 = np.random.gamma(alpha, m0 / alpha, P * n)\n",
    "    y1 = np.random.gamma(alpha, m1 / alpha, P * n)\n",
    "    means0 = np.mean(y0.reshape(n, P), axis=1)\n",
    "    means1 = np.mean(y1.reshape(n, P), axis=1)\n",
    "    ml0 = np.array([max_log_likelihood(alpha, y0[i * P : (i + 1) * P]) for i in range(n)])\n",
    "    ml1 = np.array([max_log_likelihood(alpha, y1[i * P : (i + 1) * P]) for i in range(n)])\n",
    "    l0_0 = np.array([log_likelihood(m0, alpha, y0[i * P : (i + 1) * P]) for i in range(n)])\n",
    "    l1_0 = np.array([log_likelihood(m1, alpha, y0[i * P : (i + 1) * P]) for i in range(n)])\n",
    "    l0_1 = np.array([log_likelihood(m0, alpha, y1[i * P : (i + 1) * P]) for i in range(n)])\n",
    "    l1_1 = np.array([log_likelihood(m1, alpha, y1[i * P : (i + 1) * P]) for i in range(n)])\n",
    "    return l0_0, l1_0, l0_1, l1_1\n",
    "\n",
    "# Histogram plotting function\n",
    "def plot_histograms(l0, l1):\n",
    "    diff_0 = l1[0] - l0[0]  # l1_0 - l0_0\n",
    "    diff_1 = l1[1] - l0[1]  # l1_1 - l0_1\n",
    "    plt.figure(figsize=(8, 6))\n",
    "    plt.hist([diff_0, diff_1], bins=50, density=True, color=['blue', 'red'], alpha=0.7,\n",
    "             label=[\"$l_{1,0} - l_{0,0}$\", \"$l_{1,1} - l_{0,1}$\"])\n",
    "    plt.axvline(0, color='black', linestyle='--', linewidth=1, label='Zero')\n",
    "    plt.xlabel(\"Value\")\n",
    "    plt.ylabel(\"Frequency\")\n",
    "    plt.grid()\n",
    "    plt.legend()\n",
    "    plt.show()\n",
    "\n",
    "# ROC curve plotting function\n",
    "def plot_roc(diff_0, diff_1, num_thresholds=1000):\n",
    "    thresholds = np.linspace(min(diff_0.min(), diff_1.min()), max(diff_0.max(), diff_1.max()), num_thresholds)\n",
    "    p_fa = [(diff_0 >= t).mean() for t in thresholds]\n",
    "    p_d = [(diff_1 >= t).mean() for t in thresholds]\n",
    "    plt.figure(figsize=(8, 6))\n",
    "    plt.plot(p_fa, p_d, color='blue', label='ROC Curve')\n",
    "    plt.xscale('log')\n",
    "    plt.xlabel(r'$ P_{fa} $')\n",
    "    plt.ylim([0, 1.05])\n",
    "    plt.xlim([1e-5, 1])\n",
    "    plt.ylabel(r'$ P_{de} $')\n",
    "    plt.grid()\n",
    "    plt.legend()\n",
    "    plt.show()"
   ]
  },
  {
   "cell_type": "markdown",
   "metadata": {},
   "source": [
    "B. Test"
   ]
  },
  {
   "cell_type": "code",
   "execution_count": 86,
   "metadata": {},
   "outputs": [],
   "source": [
    "# Generate data and plot results\n",
    "# l0_0, l1_0, l0_1, l1_1 = generate_data(2, 10, 10000, 5, 0.5)\n",
    "# plot_histograms([l0_0, l0_1], [l1_0, l1_1])\n",
    "# plot_roc(l1_0 - l0_0, l1_1 - l0_1)"
   ]
  }
 ],
 "metadata": {
  "kernelspec": {
   "display_name": ".venv",
   "language": "python",
   "name": "python3"
  },
  "language_info": {
   "codemirror_mode": {
    "name": "ipython",
    "version": 3
   },
   "file_extension": ".py",
   "mimetype": "text/x-python",
   "name": "python",
   "nbconvert_exporter": "python",
   "pygments_lexer": "ipython3",
   "version": "3.13.2"
  }
 },
 "nbformat": 4,
 "nbformat_minor": 2
}
