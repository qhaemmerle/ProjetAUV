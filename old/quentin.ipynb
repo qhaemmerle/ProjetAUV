{
 "cells": [
  {
   "cell_type": "markdown",
   "metadata": {
    "id": "Sj3KKpyaZJJf"
   },
   "source": [
    "# Outils"
   ]
  },
  {
   "cell_type": "markdown",
   "metadata": {
    "id": "QzChByc6s6aw"
   },
   "source": [
    "Importations :"
   ]
  },
  {
   "cell_type": "code",
   "execution_count": null,
   "metadata": {
    "id": "6Klh3-MVs6ax"
   },
   "outputs": [],
   "source": [
    "from math import *\n",
    "import numpy as np\n",
    "import matplotlib.pyplot as plt\n",
    "import random"
   ]
  },
  {
   "cell_type": "markdown",
   "metadata": {
    "id": "b2i0KHDas6ay"
   },
   "source": [
    "Outils :"
   ]
  },
  {
   "cell_type": "code",
   "execution_count": null,
   "metadata": {
    "id": "YVzJPv20s6az"
   },
   "outputs": [],
   "source": [
    "def calculate_radius(distance, angle):\n",
    "\n",
    "    radius = distance * np.tan(angle)\n",
    "    return radius\n",
    "\n",
    "\n",
    "def detect_target(target_position, beam_position, beam_radius):\n",
    "\n",
    "    distance = np.linalg.norm(target_position - beam_position)\n",
    "    return distance <= beam_radius"
   ]
  },
  {
   "cell_type": "markdown",
   "metadata": {
    "id": "pq7gAJg9ZUHp"
   },
   "source": [
    "# Recherche point fixe"
   ]
  },
  {
   "cell_type": "markdown",
   "metadata": {
    "id": "RdeVklbMs6a0"
   },
   "source": [
    "Recherche initiale :"
   ]
  },
  {
   "cell_type": "code",
   "execution_count": null,
   "metadata": {
    "id": "NCVUqcqas6a0"
   },
   "outputs": [],
   "source": [
    "def make_spiral_path(window_size, start_point, step):\n",
    "\n",
    "    point = start_point\n",
    "    list_points = [point.copy()]\n",
    "\n",
    "    direction = 1\n",
    "    for side_length in range(1, window_size//step + 1):\n",
    "        for i in range(side_length):\n",
    "            point[0] += direction * step\n",
    "            list_points.append(point.copy())\n",
    "        for j in range(side_length):\n",
    "            point[1] += direction * step\n",
    "            list_points.append(point.copy())\n",
    "        direction *= -1\n",
    "\n",
    "    return list_points\n",
    "\n",
    "\n",
    "def search_path(path, beam_radius, target_position):\n",
    "\n",
    "    for rank in range(len(path)):\n",
    "        beam_position = path[rank]\n",
    "        if detect_target(target_position, beam_position, beam_radius):\n",
    "            return beam_position, rank\n",
    "    return None\n",
    "\n",
    "\n",
    "def acquisition(window_size, distance, initial_angle, target_position, resolution):\n",
    "\n",
    "    list_centers = []\n",
    "    list_radii = []\n",
    "    list_spirals = []\n",
    "\n",
    "    start_point = np.array([window_size//2, window_size//2])\n",
    "    beam_radius = calculate_radius(distance, initial_angle)\n",
    "    step = int(sqrt(2)*beam_radius)\n",
    "\n",
    "    while beam_radius > (resolution / 2):\n",
    "\n",
    "        path = make_spiral_path(window_size, start_point, step)\n",
    "        start_point, index = search_path(path, beam_radius, target_position)\n",
    "        # print(path[:index + 1])\n",
    "        list_centers.append(start_point.copy())\n",
    "        list_radii.append(beam_radius)\n",
    "        cut_path = path[:index] + [start_point.copy()]\n",
    "        list_spirals.append(cut_path.copy())\n",
    "\n",
    "        beam_radius /= 2\n",
    "        step = int(sqrt(2)*beam_radius)\n",
    "\n",
    "    return start_point, list_centers, list_radii, list_spirals\n",
    "\n",
    "\n",
    "def plot_acquisition(window_size, list_centers, list_radii, list_spirals, target_position):\n",
    "\n",
    "    fig, ax = plt.subplots(figsize=(6,6))\n",
    "    ax.set_xlim(12500, 15000)\n",
    "    ax.set_ylim(4000, 6500)\n",
    "    ax.set_aspect('equal')\n",
    "\n",
    "    # Tracé des cercles\n",
    "    for center, radius, spiral in zip(list_centers, list_radii, list_spirals):\n",
    "        ax.plot(*zip(*spiral), 'g-', alpha=0.5)  # Plot spiral in green\n",
    "        cercle = plt.Circle(center, radius, color='b', fill=False, linestyle=\"dashed\", alpha=0.5)\n",
    "        ax.add_patch(cercle)\n",
    "        ax.plot(*center, 'go', markersize=5)  # Affichage des centres en vert\n",
    "\n",
    "    # Tracé du point Q\n",
    "    ax.plot(*target_position, 'ro', markersize=4, label=\"Point Q (cible)\")\n",
    "\n",
    "    # Légende et affichage\n",
    "    plt.legend()\n",
    "    plt.title(\"Affichage des cercles et du point Q\")\n",
    "    plt.grid(True)\n",
    "    plt.show()"
   ]
  },
  {
   "cell_type": "markdown",
   "metadata": {
    "id": "tAxeS8BEs6a2"
   },
   "source": [
    "Tests :"
   ]
  },
  {
   "cell_type": "code",
   "execution_count": null,
   "metadata": {
    "colab": {
     "base_uri": "https://localhost:8080/",
     "height": 545
    },
    "executionInfo": {
     "elapsed": 23920,
     "status": "ok",
     "timestamp": 1738869591379,
     "user": {
      "displayName": "Quentin Haemmerlé",
      "userId": "00502697119921846022"
     },
     "user_tz": -60
    },
    "id": "OQm89YgUs6a2",
    "outputId": "fd72b57f-cfcd-4dab-b1d6-3b383c25f535"
   },
   "outputs": [
    {
     "ename": "KeyboardInterrupt",
     "evalue": "",
     "output_type": "error",
     "traceback": [
      "\u001b[1;31m---------------------------------------------------------------------------\u001b[0m",
      "\u001b[1;31mKeyboardInterrupt\u001b[0m                         Traceback (most recent call last)",
      "Cell \u001b[1;32mIn[4], line 9\u001b[0m\n\u001b[0;32m      6\u001b[0m target_position \u001b[38;5;241m=\u001b[39m np\u001b[38;5;241m.\u001b[39marray([\u001b[38;5;241m13325\u001b[39m, \u001b[38;5;241m4802\u001b[39m])\n\u001b[0;32m      7\u001b[0m resolution \u001b[38;5;241m=\u001b[39m \u001b[38;5;241m10\u001b[39m\n\u001b[1;32m----> 9\u001b[0m start_point, list_centers, list_radii, list_spirals \u001b[38;5;241m=\u001b[39m \u001b[43macquisition\u001b[49m\u001b[43m(\u001b[49m\u001b[43mwindow_size\u001b[49m\u001b[43m,\u001b[49m\u001b[43m \u001b[49m\u001b[43mdistance\u001b[49m\u001b[43m,\u001b[49m\u001b[43m \u001b[49m\u001b[43mangle\u001b[49m\u001b[43m,\u001b[49m\u001b[43m \u001b[49m\u001b[43mtarget_position\u001b[49m\u001b[43m,\u001b[49m\u001b[43m \u001b[49m\u001b[43mresolution\u001b[49m\u001b[43m)\u001b[49m\n\u001b[0;32m     11\u001b[0m plot_acquisition(window_size, list_centers, list_radii, list_spirals, start_point)\n",
      "Cell \u001b[1;32mIn[3], line 40\u001b[0m, in \u001b[0;36macquisition\u001b[1;34m(window_size, distance, initial_angle, target_position, resolution)\u001b[0m\n\u001b[0;32m     36\u001b[0m step \u001b[38;5;241m=\u001b[39m \u001b[38;5;28mint\u001b[39m(sqrt(\u001b[38;5;241m2\u001b[39m)\u001b[38;5;241m*\u001b[39mbeam_radius)\n\u001b[0;32m     38\u001b[0m \u001b[38;5;28;01mwhile\u001b[39;00m beam_radius \u001b[38;5;241m>\u001b[39m (resolution \u001b[38;5;241m/\u001b[39m \u001b[38;5;241m2\u001b[39m):\n\u001b[1;32m---> 40\u001b[0m     path \u001b[38;5;241m=\u001b[39m \u001b[43mmake_spiral_path\u001b[49m\u001b[43m(\u001b[49m\u001b[43mwindow_size\u001b[49m\u001b[43m,\u001b[49m\u001b[43m \u001b[49m\u001b[43mstart_point\u001b[49m\u001b[43m,\u001b[49m\u001b[43m \u001b[49m\u001b[43mstep\u001b[49m\u001b[43m)\u001b[49m\n\u001b[0;32m     41\u001b[0m     start_point, index \u001b[38;5;241m=\u001b[39m search_path(path, beam_radius, target_position)\n\u001b[0;32m     42\u001b[0m     \u001b[38;5;66;03m# print(path[:index + 1])\u001b[39;00m\n",
      "Cell \u001b[1;32mIn[3], line 10\u001b[0m, in \u001b[0;36mmake_spiral_path\u001b[1;34m(window_size, start_point, step)\u001b[0m\n\u001b[0;32m      8\u001b[0m \u001b[38;5;28;01mfor\u001b[39;00m i \u001b[38;5;129;01min\u001b[39;00m \u001b[38;5;28mrange\u001b[39m(side_length):\n\u001b[0;32m      9\u001b[0m     point[\u001b[38;5;241m0\u001b[39m] \u001b[38;5;241m+\u001b[39m\u001b[38;5;241m=\u001b[39m direction \u001b[38;5;241m*\u001b[39m step\n\u001b[1;32m---> 10\u001b[0m     list_points\u001b[38;5;241m.\u001b[39mappend(\u001b[43mpoint\u001b[49m\u001b[38;5;241;43m.\u001b[39;49m\u001b[43mcopy\u001b[49m\u001b[43m(\u001b[49m\u001b[43m)\u001b[49m)\n\u001b[0;32m     11\u001b[0m \u001b[38;5;28;01mfor\u001b[39;00m j \u001b[38;5;129;01min\u001b[39;00m \u001b[38;5;28mrange\u001b[39m(side_length):\n\u001b[0;32m     12\u001b[0m     point[\u001b[38;5;241m1\u001b[39m] \u001b[38;5;241m+\u001b[39m\u001b[38;5;241m=\u001b[39m direction \u001b[38;5;241m*\u001b[39m step\n",
      "\u001b[1;31mKeyboardInterrupt\u001b[0m: "
     ]
    }
   ],
   "source": [
    "# Test pour pointing et acquisition :\n",
    "\n",
    "window_size = 20000\n",
    "distance = 10000\n",
    "angle = 0.15\n",
    "target_position = np.array([13325, 4802])\n",
    "resolution = 10\n",
    "\n",
    "start_point, list_centers, list_radii, list_spirals = acquisition(window_size, distance, angle, target_position, resolution)\n",
    "\n",
    "plot_acquisition(window_size, list_centers, list_radii, list_spirals, start_point)\n"
   ]
  },
  {
   "cell_type": "markdown",
   "metadata": {
    "id": "q82ZiG8OZcAe"
   },
   "source": [
    "# Déplacement"
   ]
  },
  {
   "cell_type": "markdown",
   "metadata": {
    "id": "jDiZtp2ls6a3"
   },
   "source": [
    "Déplacement aléatoire de l'AUV :"
   ]
  },
  {
   "cell_type": "code",
   "execution_count": null,
   "metadata": {
    "id": "csV809jps6a4"
   },
   "outputs": [],
   "source": [
    "def move_auv(current_point, dt, noise) : # k la \"force du bruit\"\n",
    "\n",
    "    x, y = current_point[0]\n",
    "    vx, vy = current_point[1]\n",
    "\n",
    "    new_x = x + vx*dt + random.gauss(0, noise*vx*dt)\n",
    "    new_y = y + vy*dt + random.gauss(0, noise*vy*dt)\n",
    "    new_vx = (new_x - x) / dt\n",
    "    new_vy = (new_y - y) / dt\n",
    "    return np.array([new_x, new_y]), np.array([new_vx, new_vy])\n",
    "\n",
    "\n",
    "def make_points_list(initial_position, initial_speed, duration, dt, noise):\n",
    "    current_point = (initial_position, initial_speed)\n",
    "    points_list = [current_point]\n",
    "    for i in range (0, duration) :\n",
    "        current_point = move_auv(current_point, dt, noise)\n",
    "        points_list.append(current_point)\n",
    "    return points_list\n",
    "\n",
    "def search_path_movement(path, beam_radius, points_list):\n",
    "\n",
    "    for index in range(len(path)):\n",
    "        beam_position = path[index]\n",
    "        target_position = points_list[index][0]\n",
    "        if detect_target(target_position, beam_position, beam_radius):\n",
    "            return beam_position, index\n",
    "    return None\n",
    "\n",
    "def acquisition_movement(window_size, distance, initial_angle, target_position, target_speed, dt, noise, resolution):\n",
    "\n",
    "    list_centers = []\n",
    "    list_radii = []\n",
    "    list_spirals = []\n",
    "    current_position = target_position.copy()\n",
    "    current_speed = target_speed.copy()\n",
    "\n",
    "    start_point = np.array([window_size//2, window_size//2])\n",
    "    beam_radius = calculate_radius(distance, initial_angle)\n",
    "    step = int(sqrt(2)*beam_radius)\n",
    "\n",
    "    while beam_radius > (resolution / 2):\n",
    "\n",
    "        path = make_spiral_path(window_size, start_point, step)\n",
    "        points_list = make_points_list(current_position, current_speed, len(path), dt, noise)\n",
    "\n",
    "        start_point, index = search_path_movement(path, beam_radius, points_list)\n",
    "\n",
    "        # print(path[:index + 1])\n",
    "        list_centers.append(start_point.copy())\n",
    "        list_radii.append(beam_radius)\n",
    "        cut_path = path[:index] + [start_point.copy()]\n",
    "        list_spirals.append(cut_path.copy())\n",
    "\n",
    "        current_position, current_speed = points_list[index]\n",
    "\n",
    "        beam_radius /= 2\n",
    "        step = int(sqrt(2)*beam_radius)\n",
    "\n",
    "    return start_point, list_centers, list_radii, list_spirals"
   ]
  },
  {
   "cell_type": "code",
   "execution_count": null,
   "metadata": {},
   "outputs": [
    {
     "data": {
      "image/png": "[encoded data removed]",
      "text/plain": [
       "<Figure size 600x600 with 1 Axes>"
      ]
     },
     "metadata": {},
     "output_type": "display_data"
    }
   ],
   "source": [
    "# Test pour pointing et acquisition :\n",
    "\n",
    "window_size = 20000\n",
    "distance = 10000\n",
    "angle = 0.15\n",
    "target_position = np.array([13325, 4802])\n",
    "target_speed = np.array([0, 0])\n",
    "dt = 1\n",
    "noise = 0.1\n",
    "resolution = 10\n",
    "\n",
    "start_point, list_centers, list_radii, list_spirals = acquisition_movement(window_size, distance, angle, target_position, target_speed, dt, noise, resolution)\n",
    "\n",
    "plot_acquisition(window_size, list_centers, list_radii, list_spirals, start_point)\n"
   ]
  },
  {
   "cell_type": "markdown",
   "metadata": {
    "id": "k_LB69_4s6a5"
   },
   "source": [
    "Fait :\n",
    "    pointing : parcours en spirale d'un plan à une distance d avec un faisceau d'angle alpha en recherche d'un auv fixe\n",
    "    acquisition de l'auv\n",
    "\n",
    "    mouvement de l'auv\n",
    "\n",
    "A faire :\n",
    "\n",
    "    ajout du mouvement de l'auv\n",
    "        mise à jour des pointing et acquisition\n",
    "        ajout du tracking\n",
    "\n",
    "    implémentation de la puissance reçue pour détecter l'auv\n",
    "\n",
    "    ajout du bruit du milieu / diffusion de l'eau\n",
    "        filtre de kalman\n",
    "        mise à jour du pat avec bruit"
   ]
  }
 ],
 "metadata": {
  "colab": {
   "provenance": [],
   "toc_visible": true
  },
  "kernelspec": {
   "display_name": "env397",
   "language": "python",
   "name": "python3"
  },
  "language_info": {
   "codemirror_mode": {
    "name": "ipython",
    "version": 3
   },
   "file_extension": ".py",
   "mimetype": "text/x-python",
   "name": "python",
   "nbconvert_exporter": "python",
   "pygments_lexer": "ipython3",
   "version": "3.9.7"
  }
 },
 "nbformat": 4,
 "nbformat_minor": 0
}
