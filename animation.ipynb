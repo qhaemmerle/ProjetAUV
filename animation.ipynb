{
 "cells": [
  {
   "cell_type": "code",
   "execution_count": 1,
   "metadata": {
    "colab": {
     "base_uri": "https://localhost:8080/",
     "height": 550
    },
    "executionInfo": {
     "elapsed": 336,
     "status": "error",
     "timestamp": 1740069679198,
     "user": {
      "displayName": "Adam Apruzzese",
      "userId": "01062690407247077724"
     },
     "user_tz": -60
    },
    "id": "rdAWq4jlOhGL",
    "outputId": "d480f7d6-4ea3-4d63-c623-bb573eeee251"
   },
   "outputs": [
    {
     "data": {
      "text/plain": [
       "Text(0.5, 1.0, 'Simulation Pointing, Acquisition, and Tracking (PAT)')"
      ]
     },
     "execution_count": 1,
     "metadata": {},
     "output_type": "execute_result"
    }
   ],
   "source": [
    "import numpy as np\n",
    "import matplotlib\n",
    "matplotlib.use(\"TkAgg\")  # Ou \"Qt5Agg\"\n",
    "import matplotlib.pyplot as plt\n",
    "import matplotlib.animation as animation\n",
    "\n",
    "# Paramètres de la spirale\n",
    "a = 0.3  # Facteur d'expansion de la spirale\n",
    "b = 0.1  # Facteur de croissance du rayon\n",
    "threshold = 5  # Distance seuil pour atteindre la cible\n",
    "\n",
    "# Initialisation des positions\n",
    "target_position = np.array([np.random.randint(0, 100), np.random.randint(0, 100)])\n",
    "sensor_position = np.array([50,50])\n",
    "target_history = [target_position.copy()]\n",
    "tracking_position = np.copy(sensor_position)\n",
    "tracking_history = [tracking_position.copy()]\n",
    "\n",
    "fig, ax = plt.subplots()\n",
    "ax.set_xlim(0, 100)\n",
    "ax.set_ylim(0, 100)\n",
    "target_line, = ax.plot([], [], 'r--', alpha=0.5, label=\"Trajectoire cible\")\n",
    "tracking_line, = ax.plot([], [], 'b--', alpha=0.5, label=\"Trajectoire suivi\")\n",
    "sensor_dot, = ax.plot([], [], 'go', markersize=8, label=\"Capteur\")\n",
    "target_dot, = ax.plot([], [], 'ro', markersize=8, label=\"Cible\")\n",
    "tracking_dot, = ax.plot([], [], 'bo', markersize=8, label=\"Tracking\")\n",
    "ax.legend()\n",
    "ax.set_title(\"Simulation Pointing, Acquisition, and Tracking (PAT)\")\n"
   ]
  },
  {
   "cell_type": "code",
   "execution_count": 2,
   "metadata": {
    "id": "5vn70QyNOhGO"
   },
   "outputs": [],
   "source": [
    "def update_target():\n",
    "    \"\"\"Simule le mouvement de la cible et met à jour l'historique.\"\"\"\n",
    "    global target_position\n",
    "    new_position = target_position + np.random.randint(-1, 2, size=2)\n",
    "    target_position = np.clip(new_position, 0, 100)  # Garde dans les limites\n",
    "\n",
    "    # Limiter la taille de l'historique pour éviter une surcharge mémoire\n",
    "    if len(target_history) > 50:\n",
    "        target_history.pop(0)\n",
    "    target_history.append(target_position.copy())"
   ]
  },
  {
   "cell_type": "code",
   "execution_count": 3,
   "metadata": {
    "id": "rmC2RftPOhGP"
   },
   "outputs": [],
   "source": [
    "\n",
    "def track_unfound_target(frame):\n",
    "    \"\"\"Simule le suivi de la cible par ajustement progressif.\"\"\"\n",
    "    global tracking_position\n",
    "    theta = a * frame  # Angle qui tourne\n",
    "    r = b * frame      # Rayon qui grandit\n",
    "    x = 50 + r * np.cos(theta)\n",
    "    y = 50 + r * np.sin(theta)\n",
    "    new_position = np.array([x,y])\n",
    "    tracking_position = np.clip(new_position, 0, 100)\n",
    "    if len(tracking_history) > 50:\n",
    "        tracking_history.pop(0)\n",
    "    tracking_history.append(tracking_position.copy())\n"
   ]
  },
  {
   "cell_type": "code",
   "execution_count": 4,
   "metadata": {
    "id": "i-Jk1PRKOhGQ"
   },
   "outputs": [],
   "source": [
    "def track_found_target():\n",
    "    \"\"\"Simule le suivi de la cible par ajustement progressif.\"\"\"\n",
    "    global tracking_position\n",
    "    direction = target_position - tracking_position\n",
    "    step = np.clip(direction, -2, 2)  # Pas de mouvement limité pour un suivi progressif\n",
    "    tracking_position += step\n",
    "    if len(tracking_history) > 50:\n",
    "        tracking_history.pop(0)\n",
    "    tracking_history.append(tracking_position.copy())  # Sauvegarde historique"
   ]
  },
  {
   "cell_type": "code",
   "execution_count": 5,
   "metadata": {
    "id": "ipe84eeaOhGR"
   },
   "outputs": [],
   "source": [
    "def update(frame):\n",
    "    global tracking_position, target_position\n",
    "    distance = np.sqrt((tracking_position[0] - target_position[0]) ** 2 + (tracking_position[1] - target_position[1]) ** 2)\n",
    "    if distance>=threshold:\n",
    "        update_target()\n",
    "        track_unfound_target(frame)\n",
    "    else :\n",
    "        update_target()\n",
    "        track_found_target()\n",
    "\n",
    "    # Mise à jour des données des objets graphiques\n",
    "    target_x, target_y = zip(*target_history)\n",
    "    tracking_x, tracking_y = zip(*tracking_history)\n",
    "\n",
    "    target_line.set_data(target_x, target_y)\n",
    "    tracking_line.set_data(tracking_x, tracking_y)\n",
    "    target_dot.set_data(target_position[0], target_position[1])\n",
    "    sensor_dot.set_data(sensor_position[0], sensor_position[1])\n",
    "    tracking_dot.set_data(tracking_position[0], tracking_position[1])\n",
    "\n",
    "    return target_line, target_dot, sensor_dot, tracking_line, tracking_dot,"
   ]
  },
  {
   "cell_type": "code",
   "execution_count": 6,
   "metadata": {
    "id": "4jYahjYCOhGS"
   },
   "outputs": [],
   "source": [
    "ani = animation.FuncAnimation(fig, update, frames=1000, interval=100, blit=False)\n",
    "plt.show()"
   ]
  }
 ],
 "metadata": {
  "colab": {
   "provenance": []
  },
  "kernelspec": {
   "display_name": "env397",
   "language": "python",
   "name": "python3"
  },
  "language_info": {
   "codemirror_mode": {
    "name": "ipython",
    "version": 3
   },
   "file_extension": ".py",
   "mimetype": "text/x-python",
   "name": "python",
   "nbconvert_exporter": "python",
   "pygments_lexer": "ipython3",
   "version": "3.9.7"
  }
 },
 "nbformat": 4,
 "nbformat_minor": 0
}
